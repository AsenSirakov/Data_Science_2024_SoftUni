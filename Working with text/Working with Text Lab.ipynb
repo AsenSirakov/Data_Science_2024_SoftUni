{
 "cells": [
  {
   "cell_type": "code",
   "execution_count": 58,
   "id": "bb8c5630-11b2-41b9-98a2-f67d6cebc323",
   "metadata": {},
   "outputs": [],
   "source": [
    "import numpy as np \n",
    "import matplotlib.pyplot as plt \n",
    "import pandas as pd \n",
    "import seaborn as sns\n",
    "import re\n",
    "import zipfile\n",
    "import nltk\n",
    "from nltk.tokenize import sent_tokenize, word_tokenize\n",
    "from nltk.corpus import stopwords\n",
    "from nltk.stem import WordNetLemmatizer\n",
    "from collections import Counter\n",
    "from nltk import pos_tag\n",
    "from nltk import ngrams\n",
    "from nltk.corpus import opinion_lexicon\n",
    "from nltk.corpus import wordnet as wn\n",
    "from nltk.sentiment.vader import SentimentIntensityAnalyzer\n",
    "from sklearn.feature_extraction.text import CountVectorizer\n",
    "from transformers import pipeline\n",
    "from sklearn.metrics import accuracy_score\n",
    "from transformers import AutoTokenizer, AutoModelForSequenceClassification\n",
    "from transformers import BertModel, BertTokenizer\n",
    "import torch\n",
    "from sklearn.feature_extraction.text import TfidfVectorizer\n",
    "from sklearn.metrics.pairwise import cosine_similarity\n",
    "from sklearn.cluster import KMeans\n",
    "from sklearn.cluster import AgglomerativeClustering\n",
    "import tensorflow_hub as hub"
   ]
  },
  {
   "cell_type": "markdown",
   "id": "0375379c-19e4-4e50-9f63-5c74cf81ece5",
   "metadata": {},
   "source": [
    "# Working with Text Lab\n",
    "## Information retrieval, preprocessing, and feature extraction"
   ]
  },
  {
   "cell_type": "markdown",
   "id": "d92edf71-988c-4e95-b17f-987095e9246a",
   "metadata": {},
   "source": [
    "In this lab, you'll be looking at and exploring European restaurant reviews. The dataset is rather tiny, but that's just because it has to run on any machine. In real life, just like with images, texts can be several terabytes long.\n",
    "\n",
    "The dataset is located [here](https://www.kaggle.com/datasets/gorororororo23/european-restaurant-reviews) and as always, it's been provided to you in the `data/` folder."
   ]
  },
  {
   "cell_type": "markdown",
   "id": "888cf2cf-1cd7-4538-a7a2-462e80b1df99",
   "metadata": {},
   "source": [
    "### Problem 1. Read the dataset (1 point)\n",
    "Read the dataset, get acquainted with it. Ensure the data is valid before you proceed.\n",
    "\n",
    "How many observations are there? Which country is the most represented? What time range does the dataset represent?\n",
    "\n",
    "Is the sample balanced in terms of restaurants, i.e., do you have an equal number of reviews for each one? Most importantly, is the dataset balanced in terms of **sentiment**?"
   ]
  },
  {
   "cell_type": "markdown",
   "id": "9a6cb17b-e8c3-4c46-a0cc-a33928831456",
   "metadata": {},
   "source": [
    "1. First we will load the data using pd.read_csv and create a function to turn the columns into snake_case for easier use of the column names."
   ]
  },
  {
   "cell_type": "code",
   "execution_count": 6,
   "id": "596f1cf0-acfe-4e05-a953-6a2fc1ea2463",
   "metadata": {},
   "outputs": [],
   "source": [
    "restaurant_data = pd.read_csv('data/European Restaurant Reviews.csv')"
   ]
  },
  {
   "cell_type": "code",
   "execution_count": 7,
   "id": "83375283-832d-409b-8ba7-4b653783bb08",
   "metadata": {},
   "outputs": [
    {
     "data": {
      "text/html": [
       "<div>\n",
       "<style scoped>\n",
       "    .dataframe tbody tr th:only-of-type {\n",
       "        vertical-align: middle;\n",
       "    }\n",
       "\n",
       "    .dataframe tbody tr th {\n",
       "        vertical-align: top;\n",
       "    }\n",
       "\n",
       "    .dataframe thead th {\n",
       "        text-align: right;\n",
       "    }\n",
       "</style>\n",
       "<table border=\"1\" class=\"dataframe\">\n",
       "  <thead>\n",
       "    <tr style=\"text-align: right;\">\n",
       "      <th></th>\n",
       "      <th>Country</th>\n",
       "      <th>Restaurant Name</th>\n",
       "      <th>Sentiment</th>\n",
       "      <th>Review Title</th>\n",
       "      <th>Review Date</th>\n",
       "      <th>Review</th>\n",
       "    </tr>\n",
       "  </thead>\n",
       "  <tbody>\n",
       "    <tr>\n",
       "      <th>0</th>\n",
       "      <td>France</td>\n",
       "      <td>The Frog at Bercy Village</td>\n",
       "      <td>Negative</td>\n",
       "      <td>Rude manager</td>\n",
       "      <td>May 2024 •</td>\n",
       "      <td>The manager became agressive when I said the c...</td>\n",
       "    </tr>\n",
       "    <tr>\n",
       "      <th>1</th>\n",
       "      <td>France</td>\n",
       "      <td>The Frog at Bercy Village</td>\n",
       "      <td>Negative</td>\n",
       "      <td>A big disappointment</td>\n",
       "      <td>Feb 2024 •</td>\n",
       "      <td>I ordered a beef fillet ask to be done medium,...</td>\n",
       "    </tr>\n",
       "    <tr>\n",
       "      <th>2</th>\n",
       "      <td>France</td>\n",
       "      <td>The Frog at Bercy Village</td>\n",
       "      <td>Negative</td>\n",
       "      <td>Pretty Place with Bland Food</td>\n",
       "      <td>Nov 2023 •</td>\n",
       "      <td>This is an attractive venue with welcoming, al...</td>\n",
       "    </tr>\n",
       "    <tr>\n",
       "      <th>3</th>\n",
       "      <td>France</td>\n",
       "      <td>The Frog at Bercy Village</td>\n",
       "      <td>Negative</td>\n",
       "      <td>Great service and wine but inedible food</td>\n",
       "      <td>Mar 2023 •</td>\n",
       "      <td>Sadly I  used the high TripAdvisor rating too ...</td>\n",
       "    </tr>\n",
       "    <tr>\n",
       "      <th>4</th>\n",
       "      <td>France</td>\n",
       "      <td>The Frog at Bercy Village</td>\n",
       "      <td>Negative</td>\n",
       "      <td>Avoid- Worst meal in Rome - possibly ever</td>\n",
       "      <td>Nov 2022 •</td>\n",
       "      <td>From the start this meal was bad- especially g...</td>\n",
       "    </tr>\n",
       "    <tr>\n",
       "      <th>...</th>\n",
       "      <td>...</td>\n",
       "      <td>...</td>\n",
       "      <td>...</td>\n",
       "      <td>...</td>\n",
       "      <td>...</td>\n",
       "      <td>...</td>\n",
       "    </tr>\n",
       "    <tr>\n",
       "      <th>1497</th>\n",
       "      <td>Cuba</td>\n",
       "      <td>Old Square (Plaza Vieja)</td>\n",
       "      <td>Negative</td>\n",
       "      <td>The Tourism Trap</td>\n",
       "      <td>Oct 2016 •</td>\n",
       "      <td>Despite the other reviews saying that this is ...</td>\n",
       "    </tr>\n",
       "    <tr>\n",
       "      <th>1498</th>\n",
       "      <td>Cuba</td>\n",
       "      <td>Old Square (Plaza Vieja)</td>\n",
       "      <td>Negative</td>\n",
       "      <td>the beer factory</td>\n",
       "      <td>Oct 2016 •</td>\n",
       "      <td>beer is good.  food is awfull  The only decent...</td>\n",
       "    </tr>\n",
       "    <tr>\n",
       "      <th>1499</th>\n",
       "      <td>Cuba</td>\n",
       "      <td>Old Square (Plaza Vieja)</td>\n",
       "      <td>Negative</td>\n",
       "      <td>brewery</td>\n",
       "      <td>Oct 2016 •</td>\n",
       "      <td>for terrible service of a truly comedic level,...</td>\n",
       "    </tr>\n",
       "    <tr>\n",
       "      <th>1500</th>\n",
       "      <td>Cuba</td>\n",
       "      <td>Old Square (Plaza Vieja)</td>\n",
       "      <td>Negative</td>\n",
       "      <td>It's nothing exciting over there</td>\n",
       "      <td>Oct 2016 •</td>\n",
       "      <td>We visited the Havana's Club Museum which is l...</td>\n",
       "    </tr>\n",
       "    <tr>\n",
       "      <th>1501</th>\n",
       "      <td>Cuba</td>\n",
       "      <td>Old Square (Plaza Vieja)</td>\n",
       "      <td>Negative</td>\n",
       "      <td>Tourist Trap</td>\n",
       "      <td>Oct 2016 •</td>\n",
       "      <td>Food and service was awful. Very pretty stop. ...</td>\n",
       "    </tr>\n",
       "  </tbody>\n",
       "</table>\n",
       "<p>1502 rows × 6 columns</p>\n",
       "</div>"
      ],
      "text/plain": [
       "     Country            Restaurant Name Sentiment  \\\n",
       "0     France  The Frog at Bercy Village  Negative   \n",
       "1     France  The Frog at Bercy Village  Negative   \n",
       "2     France  The Frog at Bercy Village  Negative   \n",
       "3     France  The Frog at Bercy Village  Negative   \n",
       "4     France  The Frog at Bercy Village  Negative   \n",
       "...      ...                        ...       ...   \n",
       "1497    Cuba   Old Square (Plaza Vieja)  Negative   \n",
       "1498    Cuba   Old Square (Plaza Vieja)  Negative   \n",
       "1499    Cuba   Old Square (Plaza Vieja)  Negative   \n",
       "1500    Cuba   Old Square (Plaza Vieja)  Negative   \n",
       "1501    Cuba   Old Square (Plaza Vieja)  Negative   \n",
       "\n",
       "                                   Review Title Review Date  \\\n",
       "0                                  Rude manager  May 2024 •   \n",
       "1                          A big disappointment  Feb 2024 •   \n",
       "2                  Pretty Place with Bland Food  Nov 2023 •   \n",
       "3      Great service and wine but inedible food  Mar 2023 •   \n",
       "4     Avoid- Worst meal in Rome - possibly ever  Nov 2022 •   \n",
       "...                                         ...         ...   \n",
       "1497                           The Tourism Trap  Oct 2016 •   \n",
       "1498                           the beer factory  Oct 2016 •   \n",
       "1499                                    brewery  Oct 2016 •   \n",
       "1500           It's nothing exciting over there  Oct 2016 •   \n",
       "1501                               Tourist Trap  Oct 2016 •   \n",
       "\n",
       "                                                 Review  \n",
       "0     The manager became agressive when I said the c...  \n",
       "1     I ordered a beef fillet ask to be done medium,...  \n",
       "2     This is an attractive venue with welcoming, al...  \n",
       "3     Sadly I  used the high TripAdvisor rating too ...  \n",
       "4     From the start this meal was bad- especially g...  \n",
       "...                                                 ...  \n",
       "1497  Despite the other reviews saying that this is ...  \n",
       "1498  beer is good.  food is awfull  The only decent...  \n",
       "1499  for terrible service of a truly comedic level,...  \n",
       "1500  We visited the Havana's Club Museum which is l...  \n",
       "1501  Food and service was awful. Very pretty stop. ...  \n",
       "\n",
       "[1502 rows x 6 columns]"
      ]
     },
     "execution_count": 7,
     "metadata": {},
     "output_type": "execute_result"
    }
   ],
   "source": [
    "restaurant_data"
   ]
  },
  {
   "cell_type": "code",
   "execution_count": 8,
   "id": "1ee55a65-fd68-487b-bf58-97a87133be83",
   "metadata": {},
   "outputs": [],
   "source": [
    " \"\"\"\n",
    "    Convert a column name to snake_case.\n",
    "\n",
    "    This function takes a column name as input and converts it to snake_case format.\n",
    "    Snake_case format means all characters are lowercase and spaces or periods are replaced with underscores.\n",
    "\n",
    "    Parameters:\n",
    "    column_name (str): The name of the column to be converted.\n",
    "\n",
    "    Returns:\n",
    "    str: The converted column name in snake_case format.\n",
    " \"\"\"\n",
    "def convert_to_snake_case(column_name):\n",
    "    return column_name.lower().replace('.', '_').replace(' ', '_')"
   ]
  },
  {
   "cell_type": "code",
   "execution_count": 9,
   "id": "8fa23866-6228-433a-8051-ed674f1cf23b",
   "metadata": {},
   "outputs": [],
   "source": [
    "restaurant_data_renamed_columns = restaurant_data.rename(columns=lambda col: convert_to_snake_case(col))"
   ]
  },
  {
   "cell_type": "code",
   "execution_count": 10,
   "id": "5d35cb99-b775-43a4-920a-a23fbccbf50d",
   "metadata": {},
   "outputs": [
    {
     "data": {
      "text/html": [
       "<div>\n",
       "<style scoped>\n",
       "    .dataframe tbody tr th:only-of-type {\n",
       "        vertical-align: middle;\n",
       "    }\n",
       "\n",
       "    .dataframe tbody tr th {\n",
       "        vertical-align: top;\n",
       "    }\n",
       "\n",
       "    .dataframe thead th {\n",
       "        text-align: right;\n",
       "    }\n",
       "</style>\n",
       "<table border=\"1\" class=\"dataframe\">\n",
       "  <thead>\n",
       "    <tr style=\"text-align: right;\">\n",
       "      <th></th>\n",
       "      <th>country</th>\n",
       "      <th>restaurant_name</th>\n",
       "      <th>sentiment</th>\n",
       "      <th>review_title</th>\n",
       "      <th>review_date</th>\n",
       "      <th>review</th>\n",
       "    </tr>\n",
       "  </thead>\n",
       "  <tbody>\n",
       "    <tr>\n",
       "      <th>0</th>\n",
       "      <td>France</td>\n",
       "      <td>The Frog at Bercy Village</td>\n",
       "      <td>Negative</td>\n",
       "      <td>Rude manager</td>\n",
       "      <td>May 2024 •</td>\n",
       "      <td>The manager became agressive when I said the c...</td>\n",
       "    </tr>\n",
       "    <tr>\n",
       "      <th>1</th>\n",
       "      <td>France</td>\n",
       "      <td>The Frog at Bercy Village</td>\n",
       "      <td>Negative</td>\n",
       "      <td>A big disappointment</td>\n",
       "      <td>Feb 2024 •</td>\n",
       "      <td>I ordered a beef fillet ask to be done medium,...</td>\n",
       "    </tr>\n",
       "    <tr>\n",
       "      <th>2</th>\n",
       "      <td>France</td>\n",
       "      <td>The Frog at Bercy Village</td>\n",
       "      <td>Negative</td>\n",
       "      <td>Pretty Place with Bland Food</td>\n",
       "      <td>Nov 2023 •</td>\n",
       "      <td>This is an attractive venue with welcoming, al...</td>\n",
       "    </tr>\n",
       "    <tr>\n",
       "      <th>3</th>\n",
       "      <td>France</td>\n",
       "      <td>The Frog at Bercy Village</td>\n",
       "      <td>Negative</td>\n",
       "      <td>Great service and wine but inedible food</td>\n",
       "      <td>Mar 2023 •</td>\n",
       "      <td>Sadly I  used the high TripAdvisor rating too ...</td>\n",
       "    </tr>\n",
       "    <tr>\n",
       "      <th>4</th>\n",
       "      <td>France</td>\n",
       "      <td>The Frog at Bercy Village</td>\n",
       "      <td>Negative</td>\n",
       "      <td>Avoid- Worst meal in Rome - possibly ever</td>\n",
       "      <td>Nov 2022 •</td>\n",
       "      <td>From the start this meal was bad- especially g...</td>\n",
       "    </tr>\n",
       "    <tr>\n",
       "      <th>...</th>\n",
       "      <td>...</td>\n",
       "      <td>...</td>\n",
       "      <td>...</td>\n",
       "      <td>...</td>\n",
       "      <td>...</td>\n",
       "      <td>...</td>\n",
       "    </tr>\n",
       "    <tr>\n",
       "      <th>1497</th>\n",
       "      <td>Cuba</td>\n",
       "      <td>Old Square (Plaza Vieja)</td>\n",
       "      <td>Negative</td>\n",
       "      <td>The Tourism Trap</td>\n",
       "      <td>Oct 2016 •</td>\n",
       "      <td>Despite the other reviews saying that this is ...</td>\n",
       "    </tr>\n",
       "    <tr>\n",
       "      <th>1498</th>\n",
       "      <td>Cuba</td>\n",
       "      <td>Old Square (Plaza Vieja)</td>\n",
       "      <td>Negative</td>\n",
       "      <td>the beer factory</td>\n",
       "      <td>Oct 2016 •</td>\n",
       "      <td>beer is good.  food is awfull  The only decent...</td>\n",
       "    </tr>\n",
       "    <tr>\n",
       "      <th>1499</th>\n",
       "      <td>Cuba</td>\n",
       "      <td>Old Square (Plaza Vieja)</td>\n",
       "      <td>Negative</td>\n",
       "      <td>brewery</td>\n",
       "      <td>Oct 2016 •</td>\n",
       "      <td>for terrible service of a truly comedic level,...</td>\n",
       "    </tr>\n",
       "    <tr>\n",
       "      <th>1500</th>\n",
       "      <td>Cuba</td>\n",
       "      <td>Old Square (Plaza Vieja)</td>\n",
       "      <td>Negative</td>\n",
       "      <td>It's nothing exciting over there</td>\n",
       "      <td>Oct 2016 •</td>\n",
       "      <td>We visited the Havana's Club Museum which is l...</td>\n",
       "    </tr>\n",
       "    <tr>\n",
       "      <th>1501</th>\n",
       "      <td>Cuba</td>\n",
       "      <td>Old Square (Plaza Vieja)</td>\n",
       "      <td>Negative</td>\n",
       "      <td>Tourist Trap</td>\n",
       "      <td>Oct 2016 •</td>\n",
       "      <td>Food and service was awful. Very pretty stop. ...</td>\n",
       "    </tr>\n",
       "  </tbody>\n",
       "</table>\n",
       "<p>1502 rows × 6 columns</p>\n",
       "</div>"
      ],
      "text/plain": [
       "     country            restaurant_name sentiment  \\\n",
       "0     France  The Frog at Bercy Village  Negative   \n",
       "1     France  The Frog at Bercy Village  Negative   \n",
       "2     France  The Frog at Bercy Village  Negative   \n",
       "3     France  The Frog at Bercy Village  Negative   \n",
       "4     France  The Frog at Bercy Village  Negative   \n",
       "...      ...                        ...       ...   \n",
       "1497    Cuba   Old Square (Plaza Vieja)  Negative   \n",
       "1498    Cuba   Old Square (Plaza Vieja)  Negative   \n",
       "1499    Cuba   Old Square (Plaza Vieja)  Negative   \n",
       "1500    Cuba   Old Square (Plaza Vieja)  Negative   \n",
       "1501    Cuba   Old Square (Plaza Vieja)  Negative   \n",
       "\n",
       "                                   review_title review_date  \\\n",
       "0                                  Rude manager  May 2024 •   \n",
       "1                          A big disappointment  Feb 2024 •   \n",
       "2                  Pretty Place with Bland Food  Nov 2023 •   \n",
       "3      Great service and wine but inedible food  Mar 2023 •   \n",
       "4     Avoid- Worst meal in Rome - possibly ever  Nov 2022 •   \n",
       "...                                         ...         ...   \n",
       "1497                           The Tourism Trap  Oct 2016 •   \n",
       "1498                           the beer factory  Oct 2016 •   \n",
       "1499                                    brewery  Oct 2016 •   \n",
       "1500           It's nothing exciting over there  Oct 2016 •   \n",
       "1501                               Tourist Trap  Oct 2016 •   \n",
       "\n",
       "                                                 review  \n",
       "0     The manager became agressive when I said the c...  \n",
       "1     I ordered a beef fillet ask to be done medium,...  \n",
       "2     This is an attractive venue with welcoming, al...  \n",
       "3     Sadly I  used the high TripAdvisor rating too ...  \n",
       "4     From the start this meal was bad- especially g...  \n",
       "...                                                 ...  \n",
       "1497  Despite the other reviews saying that this is ...  \n",
       "1498  beer is good.  food is awfull  The only decent...  \n",
       "1499  for terrible service of a truly comedic level,...  \n",
       "1500  We visited the Havana's Club Museum which is l...  \n",
       "1501  Food and service was awful. Very pretty stop. ...  \n",
       "\n",
       "[1502 rows x 6 columns]"
      ]
     },
     "execution_count": 10,
     "metadata": {},
     "output_type": "execute_result"
    }
   ],
   "source": [
    "restaurant_data_renamed_columns"
   ]
  },
  {
   "cell_type": "code",
   "execution_count": 11,
   "id": "0a217b87-3175-4b6a-a7d6-a0575fe2f301",
   "metadata": {},
   "outputs": [
    {
     "data": {
      "text/plain": [
       "(1502, 6)"
      ]
     },
     "execution_count": 11,
     "metadata": {},
     "output_type": "execute_result"
    }
   ],
   "source": [
    "restaurant_data.shape"
   ]
  },
  {
   "cell_type": "markdown",
   "id": "481e08fd-1d59-4b77-8bd3-74286f8d3111",
   "metadata": {},
   "source": [
    "2. As it can be seen from the shape and also from the dataframe there are 1502 observations(Rows) and 6 features(Columns) and the columns are renamed.\n",
    "3. Now let's see if there are any NaN values in the data and in which column they are"
   ]
  },
  {
   "cell_type": "code",
   "execution_count": 12,
   "id": "fe312548-df91-4a66-8b07-a96594eda66f",
   "metadata": {},
   "outputs": [],
   "source": [
    "missing_values = restaurant_data.isnull().sum()"
   ]
  },
  {
   "cell_type": "code",
   "execution_count": 13,
   "id": "bc68ecd5-b754-4949-acb4-909a64476888",
   "metadata": {},
   "outputs": [
    {
     "data": {
      "text/plain": [
       "Country            0\n",
       "Restaurant Name    0\n",
       "Sentiment          0\n",
       "Review Title       0\n",
       "Review Date        0\n",
       "Review             0\n",
       "dtype: int64"
      ]
     },
     "execution_count": 13,
     "metadata": {},
     "output_type": "execute_result"
    }
   ],
   "source": [
    "missing_values"
   ]
  },
  {
   "cell_type": "markdown",
   "id": "5df45a65-0f8b-418a-b40d-e15e55236199",
   "metadata": {},
   "source": [
    "4. As it can be seen there aren't any NaN values in the data\n",
    "5. Now let's see which country is most represented in the data and see the number of representations of the countries."
   ]
  },
  {
   "cell_type": "code",
   "execution_count": 14,
   "id": "4ec5fc91-5149-4ffd-b19a-687b9bb631c4",
   "metadata": {},
   "outputs": [],
   "source": [
    "most_represented_country = restaurant_data_renamed_columns['country'].value_counts().idxmax()\n",
    "country_counts = restaurant_data_renamed_columns['country'].value_counts()"
   ]
  },
  {
   "cell_type": "code",
   "execution_count": 15,
   "id": "e6f0f7b0-c2e8-433c-b499-6207dfd6c426",
   "metadata": {},
   "outputs": [
    {
     "data": {
      "text/plain": [
       "'France'"
      ]
     },
     "execution_count": 15,
     "metadata": {},
     "output_type": "execute_result"
    }
   ],
   "source": [
    "most_represented_country"
   ]
  },
  {
   "cell_type": "code",
   "execution_count": 16,
   "id": "25993a20-c387-405f-a940-847f16cdfd62",
   "metadata": {},
   "outputs": [
    {
     "data": {
      "text/plain": [
       "country\n",
       "France     512\n",
       "Italy      318\n",
       "Morroco    210\n",
       "Cuba       146\n",
       "Poland     135\n",
       "Russia     100\n",
       "India       81\n",
       "Name: count, dtype: int64"
      ]
     },
     "execution_count": 16,
     "metadata": {},
     "output_type": "execute_result"
    }
   ],
   "source": [
    "country_counts "
   ]
  },
  {
   "cell_type": "markdown",
   "id": "3aa8552b-aef9-41c5-a848-d7ca6ef0bb34",
   "metadata": {},
   "source": [
    "6. As it can be seen France is the most represented country in the set followed by Italy. And let's see if its only reviews for one restaurant from the country."
   ]
  },
  {
   "cell_type": "code",
   "execution_count": 17,
   "id": "f57de469-c634-4d29-ae5a-b831e23265d4",
   "metadata": {},
   "outputs": [
    {
     "data": {
      "text/plain": [
       "array(['The Frog at Bercy Village',\n",
       "       'Ad Hoc Ristorante (Piazza del Popolo)', 'Stara Kamienica',\n",
       "       'Mosaic', 'Pelmenya', 'The LOFT', 'Old Square (Plaza Vieja)'],\n",
       "      dtype=object)"
      ]
     },
     "execution_count": 17,
     "metadata": {},
     "output_type": "execute_result"
    }
   ],
   "source": [
    "restaurant_data_renamed_columns['restaurant_name'].unique()"
   ]
  },
  {
   "cell_type": "markdown",
   "id": "48e95cb5-51fc-406b-8245-79f287439a8a",
   "metadata": {},
   "source": [
    "7. Yes these are reviews for only 1 restaurant per country.\n",
    "8. Now let's see the time range of the reviews."
   ]
  },
  {
   "cell_type": "code",
   "execution_count": 18,
   "id": "8b124cd2-5457-400e-86a8-5d5dfe8d3681",
   "metadata": {},
   "outputs": [
    {
     "name": "stdout",
     "output_type": "stream",
     "text": [
      "The review dates in the processed data range from 2010-09-01 00:00:00 to 2024-07-01 00:00:00.\n"
     ]
    }
   ],
   "source": [
    "# Create a new DataFrame that copies the original dataset\n",
    "restaurant_data_processed = restaurant_data_renamed_columns.copy()\n",
    "\n",
    "# Process the review_date in the new DataFrame\n",
    "restaurant_data_processed['review_date'] = restaurant_data_processed['review_date'].str.replace('•', '', regex=False).str.strip()\n",
    "\n",
    "# Convert the cleaned date strings to datetime, assuming the first day of the month\n",
    "restaurant_data_processed['review_date'] = pd.to_datetime(\n",
    "    restaurant_data_processed['review_date'],\n",
    "    format='%b %Y',\n",
    "    errors='coerce'\n",
    ")\n",
    "\n",
    "# Check the time range in the new DataFrame\n",
    "time_range_processed = restaurant_data_processed['review_date'].min(), restaurant_data_processed['review_date'].max()\n",
    "\n",
    "# Display the result\n",
    "print(f\"The review dates in the processed data range from {time_range_processed[0]} to {time_range_processed[1]}.\")"
   ]
  },
  {
   "cell_type": "markdown",
   "id": "b635a289-c345-4473-b191-b50afbfd6cec",
   "metadata": {},
   "source": [
    "8. The time range of the reviews in the set is between September 2010 and July 2024."
   ]
  },
  {
   "cell_type": "markdown",
   "id": "a021c9eb-2827-442d-8367-6a68d338ffde",
   "metadata": {},
   "source": [
    "9. Now let's see whether the reviews are evenly distributed across restaurants"
   ]
  },
  {
   "cell_type": "code",
   "execution_count": 19,
   "id": "b796a5ac-72c5-4776-b9bd-d15ca43967dd",
   "metadata": {},
   "outputs": [],
   "source": [
    "restaurant_review_counts = restaurant_data_renamed_columns['restaurant_name'].value_counts()"
   ]
  },
  {
   "cell_type": "code",
   "execution_count": 20,
   "id": "8030ea45-39c9-48da-b8fd-171fae4b59bc",
   "metadata": {},
   "outputs": [
    {
     "data": {
      "text/plain": [
       "restaurant_name\n",
       "The Frog at Bercy Village                512\n",
       "Ad Hoc Ristorante (Piazza del Popolo)    318\n",
       "The LOFT                                 210\n",
       "Old Square (Plaza Vieja)                 146\n",
       "Stara Kamienica                          135\n",
       "Pelmenya                                 100\n",
       "Mosaic                                    81\n",
       "Name: count, dtype: int64"
      ]
     },
     "execution_count": 20,
     "metadata": {},
     "output_type": "execute_result"
    }
   ],
   "source": [
    "restaurant_review_counts "
   ]
  },
  {
   "cell_type": "markdown",
   "id": "15f9ebac-dfbe-4e06-9e5d-45ba25ac2e5c",
   "metadata": {},
   "source": [
    "10. As we already know for every country there is only 1 restaurant so all the reviews for the country are for one restaurant. The distribution is not even as there aren't equal numbers of reviews for each restaurant. The number of reviews varies significantly between restaurants, with \"The Frog at Bercy Village\" having 512 reviews and \"Mosaic\" having only 81 reviews. A balanced dataset would have an equal number of reviews for each restaurant, which is clearly not the case here.\n",
    "11. Now let's see if the sentiments are balanced."
   ]
  },
  {
   "cell_type": "code",
   "execution_count": 21,
   "id": "4ea2e271-f551-4626-821a-bacf2045ccf2",
   "metadata": {},
   "outputs": [],
   "source": [
    "sentiment_counts = restaurant_data_processed['sentiment'].value_counts()"
   ]
  },
  {
   "cell_type": "code",
   "execution_count": 22,
   "id": "3f7b27e5-6c89-4479-82e2-5433e7953537",
   "metadata": {},
   "outputs": [
    {
     "data": {
      "text/plain": [
       "sentiment\n",
       "Positive    1237\n",
       "Negative     265\n",
       "Name: count, dtype: int64"
      ]
     },
     "execution_count": 22,
     "metadata": {},
     "output_type": "execute_result"
    }
   ],
   "source": [
    "sentiment_counts"
   ]
  },
  {
   "cell_type": "markdown",
   "id": "6181ef94-2e19-4812-9edc-4d1bc03e226c",
   "metadata": {},
   "source": [
    "12. The dataset is not balanced in terms of sentiment. As there are 1237 positive and only 265 negative sentiments. A balanced dataset would have roughly an equal number of positive and negative reviews. In this case, the positive reviews significantly outnumber the negative ones, which indicates that the dataset is skewed towards positive sentiment."
   ]
  },
  {
   "cell_type": "markdown",
   "id": "01a55576-cd3c-4451-b5c8-6a51356a7386",
   "metadata": {},
   "source": [
    "### Problem 2. Getting acquainted with reviews (1 point)\n",
    "Are positive comments typically shorter or longer? Try to define a good, robust metric for \"length\" of a text; it's not necessary just the character count. Can you explain your findings?"
   ]
  },
  {
   "cell_type": "markdown",
   "id": "e031c9d8-9cbd-441d-9140-c27ab52ae641",
   "metadata": {},
   "source": [
    "1. To analyze whether positive comments are typically shorter or longer, I will calculate the word count, sentence count, and average sentence length for each review and then compare these metrics between positive and negative sentiments.\n",
    "2. First I will use a simpler method that doesn't require external resources to calculate the text length. Counting the total number of characters and total numbers of words in the review using simple string splitting."
   ]
  },
  {
   "cell_type": "code",
   "execution_count": 23,
   "id": "6eb87f47-c55e-459e-8518-93abaf39bf67",
   "metadata": {},
   "outputs": [],
   "source": [
    "def calculate_lengths(text):\n",
    "    word_count = len(text.split())\n",
    "    char_count = len(text)\n",
    "    return word_count, char_count\n",
    "\n",
    "# Apply the function to calculate word and character counts for each review\n",
    "restaurant_data_processed['word_count'], restaurant_data_processed['char_count'] = zip(*restaurant_data_processed['review'].apply(calculate_lengths))\n",
    "\n",
    "# Calculate the average word count and character count for positive and negative reviews\n",
    "length_summary = restaurant_data_processed.groupby('sentiment')[['word_count', 'char_count']].mean()"
   ]
  },
  {
   "cell_type": "code",
   "execution_count": 24,
   "id": "694e7dff-6073-4516-92a8-323fcb0c42b6",
   "metadata": {},
   "outputs": [
    {
     "data": {
      "text/html": [
       "<div>\n",
       "<style scoped>\n",
       "    .dataframe tbody tr th:only-of-type {\n",
       "        vertical-align: middle;\n",
       "    }\n",
       "\n",
       "    .dataframe tbody tr th {\n",
       "        vertical-align: top;\n",
       "    }\n",
       "\n",
       "    .dataframe thead th {\n",
       "        text-align: right;\n",
       "    }\n",
       "</style>\n",
       "<table border=\"1\" class=\"dataframe\">\n",
       "  <thead>\n",
       "    <tr style=\"text-align: right;\">\n",
       "      <th></th>\n",
       "      <th>word_count</th>\n",
       "      <th>char_count</th>\n",
       "    </tr>\n",
       "    <tr>\n",
       "      <th>sentiment</th>\n",
       "      <th></th>\n",
       "      <th></th>\n",
       "    </tr>\n",
       "  </thead>\n",
       "  <tbody>\n",
       "    <tr>\n",
       "      <th>Negative</th>\n",
       "      <td>140.573585</td>\n",
       "      <td>761.007547</td>\n",
       "    </tr>\n",
       "    <tr>\n",
       "      <th>Positive</th>\n",
       "      <td>50.183508</td>\n",
       "      <td>281.910267</td>\n",
       "    </tr>\n",
       "  </tbody>\n",
       "</table>\n",
       "</div>"
      ],
      "text/plain": [
       "           word_count  char_count\n",
       "sentiment                        \n",
       "Negative   140.573585  761.007547\n",
       "Positive    50.183508  281.910267"
      ]
     },
     "execution_count": 24,
     "metadata": {},
     "output_type": "execute_result"
    }
   ],
   "source": [
    "length_summary"
   ]
  },
  {
   "cell_type": "markdown",
   "id": "0ad38819-ecd4-49eb-ad8f-8d05689040ba",
   "metadata": {},
   "source": [
    "3. From this summary we can see that negative reviews tend to be significantly longer than positive reviews, both in terms of word count and character count. This could indicate that people are more likely to write longer and more detailed reviews when they have negative experiences compared to when they have positive experiences.\n",
    "\n",
    "This difference in length is a common phenomenon, as negative experiences often provoke more elaborate explanations or justifications"
   ]
  },
  {
   "cell_type": "markdown",
   "id": "2a268e59-7fa2-40c9-b8dc-8ef57482e351",
   "metadata": {},
   "source": [
    "4. Now let's use the nltk library to do the same operation"
   ]
  },
  {
   "cell_type": "code",
   "execution_count": 25,
   "id": "6dd0c61e-a64e-49bb-acb6-eebdeaf82ab3",
   "metadata": {},
   "outputs": [],
   "source": [
    "def calculate_lengthss(text):\n",
    "    words = nltk.word_tokenize(text)\n",
    "    word_count = len(words)\n",
    "    char_count = len(text)\n",
    "    return word_count, char_count\n",
    "\n",
    "# Apply the function to calculate word and character counts for each review\n",
    "restaurant_data_processed['word_count'], restaurant_data_processed['char_count'] = zip(*restaurant_data_processed['review'].apply(calculate_lengthss))\n",
    "\n",
    "# Calculate the average word count and character count for positive and negative reviews\n",
    "length_summary_1 = restaurant_data_processed.groupby('sentiment')[['word_count', 'char_count']].mean()"
   ]
  },
  {
   "cell_type": "code",
   "execution_count": 26,
   "id": "8152fca1-5ceb-441a-8359-a005456a34a9",
   "metadata": {},
   "outputs": [
    {
     "data": {
      "text/html": [
       "<div>\n",
       "<style scoped>\n",
       "    .dataframe tbody tr th:only-of-type {\n",
       "        vertical-align: middle;\n",
       "    }\n",
       "\n",
       "    .dataframe tbody tr th {\n",
       "        vertical-align: top;\n",
       "    }\n",
       "\n",
       "    .dataframe thead th {\n",
       "        text-align: right;\n",
       "    }\n",
       "</style>\n",
       "<table border=\"1\" class=\"dataframe\">\n",
       "  <thead>\n",
       "    <tr style=\"text-align: right;\">\n",
       "      <th></th>\n",
       "      <th>word_count</th>\n",
       "      <th>char_count</th>\n",
       "    </tr>\n",
       "    <tr>\n",
       "      <th>sentiment</th>\n",
       "      <th></th>\n",
       "      <th></th>\n",
       "    </tr>\n",
       "  </thead>\n",
       "  <tbody>\n",
       "    <tr>\n",
       "      <th>Negative</th>\n",
       "      <td>158.052830</td>\n",
       "      <td>761.007547</td>\n",
       "    </tr>\n",
       "    <tr>\n",
       "      <th>Positive</th>\n",
       "      <td>57.075182</td>\n",
       "      <td>281.910267</td>\n",
       "    </tr>\n",
       "  </tbody>\n",
       "</table>\n",
       "</div>"
      ],
      "text/plain": [
       "           word_count  char_count\n",
       "sentiment                        \n",
       "Negative   158.052830  761.007547\n",
       "Positive    57.075182  281.910267"
      ]
     },
     "execution_count": 26,
     "metadata": {},
     "output_type": "execute_result"
    }
   ],
   "source": [
    "length_summary_1"
   ]
  },
  {
   "cell_type": "markdown",
   "id": "15578037-caff-4e44-85ec-9f6275bcbd66",
   "metadata": {},
   "source": [
    "5. From this summary we can see the same trend that negative reveiws tend to be longer than positive ones. Using nltk we got only difference in the word count which could mean that it's more accurate and splits the words correctly or the opposite. Never mind that it still shows the same trend."
   ]
  },
  {
   "cell_type": "markdown",
   "id": "7c440fff-c079-464c-b97d-fffbf3d65baf",
   "metadata": {},
   "source": [
    "### Problem 3. Preprocess the review content (2 points)\n",
    "You'll likely need to do this while working on the problems below, but try to synthesize (and document!) your preprocessing here. Your tasks will revolve around words and their connection to sentiment. While preprocessing, keep in mind the domain (restaurant reviews) and the task (sentiment analysis)."
   ]
  },
  {
   "cell_type": "code",
   "execution_count": 27,
   "id": "7ce0604c-74b5-4208-b5e1-2341f1356584",
   "metadata": {},
   "outputs": [],
   "source": [
    "lemmatizer = WordNetLemmatizer()\n",
    "stop_words = set(stopwords.words('english'))"
   ]
  },
  {
   "cell_type": "code",
   "execution_count": 28,
   "id": "8a9e6948-d80e-4254-b8a4-6779312fa966",
   "metadata": {},
   "outputs": [],
   "source": [
    "def preprocess_review(review):\n",
    "    # Lowercase\n",
    "    review = review.lower()\n",
    "    \n",
    "    # Tokenize\n",
    "    tokens = word_tokenize(review)\n",
    "    \n",
    "    # Remove punctuation and non-alphabetic words\n",
    "    tokens = [word for word in tokens if word.isalpha()]\n",
    "    \n",
    "    # Remove stopwords\n",
    "    tokens = [word for word in tokens if word not in stop_words]\n",
    "    \n",
    "    # Lemmatize\n",
    "    tokens = [lemmatizer.lemmatize(word) for word in tokens]\n",
    "    \n",
    "    # Join the tokens back into a single string\n",
    "    processed_review = ' '.join(tokens)\n",
    "    \n",
    "    return processed_review\n",
    "\n",
    "# Apply preprocessing to the review_text column\n",
    "restaurant_data_renamed_columns['cleaned_review'] = restaurant_data_renamed_columns['review'].apply(preprocess_review)"
   ]
  },
  {
   "cell_type": "code",
   "execution_count": 29,
   "id": "c5e45aff-c43c-4a03-8983-277ac373f00f",
   "metadata": {},
   "outputs": [
    {
     "data": {
      "text/html": [
       "<div>\n",
       "<style scoped>\n",
       "    .dataframe tbody tr th:only-of-type {\n",
       "        vertical-align: middle;\n",
       "    }\n",
       "\n",
       "    .dataframe tbody tr th {\n",
       "        vertical-align: top;\n",
       "    }\n",
       "\n",
       "    .dataframe thead th {\n",
       "        text-align: right;\n",
       "    }\n",
       "</style>\n",
       "<table border=\"1\" class=\"dataframe\">\n",
       "  <thead>\n",
       "    <tr style=\"text-align: right;\">\n",
       "      <th></th>\n",
       "      <th>country</th>\n",
       "      <th>restaurant_name</th>\n",
       "      <th>sentiment</th>\n",
       "      <th>review_title</th>\n",
       "      <th>review_date</th>\n",
       "      <th>review</th>\n",
       "      <th>cleaned_review</th>\n",
       "    </tr>\n",
       "  </thead>\n",
       "  <tbody>\n",
       "    <tr>\n",
       "      <th>0</th>\n",
       "      <td>France</td>\n",
       "      <td>The Frog at Bercy Village</td>\n",
       "      <td>Negative</td>\n",
       "      <td>Rude manager</td>\n",
       "      <td>May 2024 •</td>\n",
       "      <td>The manager became agressive when I said the c...</td>\n",
       "      <td>manager became agressive said carbonara good r...</td>\n",
       "    </tr>\n",
       "    <tr>\n",
       "      <th>1</th>\n",
       "      <td>France</td>\n",
       "      <td>The Frog at Bercy Village</td>\n",
       "      <td>Negative</td>\n",
       "      <td>A big disappointment</td>\n",
       "      <td>Feb 2024 •</td>\n",
       "      <td>I ordered a beef fillet ask to be done medium,...</td>\n",
       "      <td>ordered beef fillet ask done medium got well d...</td>\n",
       "    </tr>\n",
       "    <tr>\n",
       "      <th>2</th>\n",
       "      <td>France</td>\n",
       "      <td>The Frog at Bercy Village</td>\n",
       "      <td>Negative</td>\n",
       "      <td>Pretty Place with Bland Food</td>\n",
       "      <td>Nov 2023 •</td>\n",
       "      <td>This is an attractive venue with welcoming, al...</td>\n",
       "      <td>attractive venue welcoming albeit somewhat slo...</td>\n",
       "    </tr>\n",
       "    <tr>\n",
       "      <th>3</th>\n",
       "      <td>France</td>\n",
       "      <td>The Frog at Bercy Village</td>\n",
       "      <td>Negative</td>\n",
       "      <td>Great service and wine but inedible food</td>\n",
       "      <td>Mar 2023 •</td>\n",
       "      <td>Sadly I  used the high TripAdvisor rating too ...</td>\n",
       "      <td>sadly used high tripadvisor rating literally f...</td>\n",
       "    </tr>\n",
       "    <tr>\n",
       "      <th>4</th>\n",
       "      <td>France</td>\n",
       "      <td>The Frog at Bercy Village</td>\n",
       "      <td>Negative</td>\n",
       "      <td>Avoid- Worst meal in Rome - possibly ever</td>\n",
       "      <td>Nov 2022 •</td>\n",
       "      <td>From the start this meal was bad- especially g...</td>\n",
       "      <td>start meal especially given price visited husb...</td>\n",
       "    </tr>\n",
       "    <tr>\n",
       "      <th>...</th>\n",
       "      <td>...</td>\n",
       "      <td>...</td>\n",
       "      <td>...</td>\n",
       "      <td>...</td>\n",
       "      <td>...</td>\n",
       "      <td>...</td>\n",
       "      <td>...</td>\n",
       "    </tr>\n",
       "    <tr>\n",
       "      <th>1497</th>\n",
       "      <td>Cuba</td>\n",
       "      <td>Old Square (Plaza Vieja)</td>\n",
       "      <td>Negative</td>\n",
       "      <td>The Tourism Trap</td>\n",
       "      <td>Oct 2016 •</td>\n",
       "      <td>Despite the other reviews saying that this is ...</td>\n",
       "      <td>despite review saying place hang especially be...</td>\n",
       "    </tr>\n",
       "    <tr>\n",
       "      <th>1498</th>\n",
       "      <td>Cuba</td>\n",
       "      <td>Old Square (Plaza Vieja)</td>\n",
       "      <td>Negative</td>\n",
       "      <td>the beer factory</td>\n",
       "      <td>Oct 2016 •</td>\n",
       "      <td>beer is good.  food is awfull  The only decent...</td>\n",
       "      <td>beer good food awfull decent thing shish kabob...</td>\n",
       "    </tr>\n",
       "    <tr>\n",
       "      <th>1499</th>\n",
       "      <td>Cuba</td>\n",
       "      <td>Old Square (Plaza Vieja)</td>\n",
       "      <td>Negative</td>\n",
       "      <td>brewery</td>\n",
       "      <td>Oct 2016 •</td>\n",
       "      <td>for terrible service of a truly comedic level,...</td>\n",
       "      <td>terrible service truly comedic level full pint...</td>\n",
       "    </tr>\n",
       "    <tr>\n",
       "      <th>1500</th>\n",
       "      <td>Cuba</td>\n",
       "      <td>Old Square (Plaza Vieja)</td>\n",
       "      <td>Negative</td>\n",
       "      <td>It's nothing exciting over there</td>\n",
       "      <td>Oct 2016 •</td>\n",
       "      <td>We visited the Havana's Club Museum which is l...</td>\n",
       "      <td>visited havana club museum located old havana ...</td>\n",
       "    </tr>\n",
       "    <tr>\n",
       "      <th>1501</th>\n",
       "      <td>Cuba</td>\n",
       "      <td>Old Square (Plaza Vieja)</td>\n",
       "      <td>Negative</td>\n",
       "      <td>Tourist Trap</td>\n",
       "      <td>Oct 2016 •</td>\n",
       "      <td>Food and service was awful. Very pretty stop. ...</td>\n",
       "      <td>food service awful pretty stop good photo bad ...</td>\n",
       "    </tr>\n",
       "  </tbody>\n",
       "</table>\n",
       "<p>1502 rows × 7 columns</p>\n",
       "</div>"
      ],
      "text/plain": [
       "     country            restaurant_name sentiment  \\\n",
       "0     France  The Frog at Bercy Village  Negative   \n",
       "1     France  The Frog at Bercy Village  Negative   \n",
       "2     France  The Frog at Bercy Village  Negative   \n",
       "3     France  The Frog at Bercy Village  Negative   \n",
       "4     France  The Frog at Bercy Village  Negative   \n",
       "...      ...                        ...       ...   \n",
       "1497    Cuba   Old Square (Plaza Vieja)  Negative   \n",
       "1498    Cuba   Old Square (Plaza Vieja)  Negative   \n",
       "1499    Cuba   Old Square (Plaza Vieja)  Negative   \n",
       "1500    Cuba   Old Square (Plaza Vieja)  Negative   \n",
       "1501    Cuba   Old Square (Plaza Vieja)  Negative   \n",
       "\n",
       "                                   review_title review_date  \\\n",
       "0                                  Rude manager  May 2024 •   \n",
       "1                          A big disappointment  Feb 2024 •   \n",
       "2                  Pretty Place with Bland Food  Nov 2023 •   \n",
       "3      Great service and wine but inedible food  Mar 2023 •   \n",
       "4     Avoid- Worst meal in Rome - possibly ever  Nov 2022 •   \n",
       "...                                         ...         ...   \n",
       "1497                           The Tourism Trap  Oct 2016 •   \n",
       "1498                           the beer factory  Oct 2016 •   \n",
       "1499                                    brewery  Oct 2016 •   \n",
       "1500           It's nothing exciting over there  Oct 2016 •   \n",
       "1501                               Tourist Trap  Oct 2016 •   \n",
       "\n",
       "                                                 review  \\\n",
       "0     The manager became agressive when I said the c...   \n",
       "1     I ordered a beef fillet ask to be done medium,...   \n",
       "2     This is an attractive venue with welcoming, al...   \n",
       "3     Sadly I  used the high TripAdvisor rating too ...   \n",
       "4     From the start this meal was bad- especially g...   \n",
       "...                                                 ...   \n",
       "1497  Despite the other reviews saying that this is ...   \n",
       "1498  beer is good.  food is awfull  The only decent...   \n",
       "1499  for terrible service of a truly comedic level,...   \n",
       "1500  We visited the Havana's Club Museum which is l...   \n",
       "1501  Food and service was awful. Very pretty stop. ...   \n",
       "\n",
       "                                         cleaned_review  \n",
       "0     manager became agressive said carbonara good r...  \n",
       "1     ordered beef fillet ask done medium got well d...  \n",
       "2     attractive venue welcoming albeit somewhat slo...  \n",
       "3     sadly used high tripadvisor rating literally f...  \n",
       "4     start meal especially given price visited husb...  \n",
       "...                                                 ...  \n",
       "1497  despite review saying place hang especially be...  \n",
       "1498  beer good food awfull decent thing shish kabob...  \n",
       "1499  terrible service truly comedic level full pint...  \n",
       "1500  visited havana club museum located old havana ...  \n",
       "1501  food service awful pretty stop good photo bad ...  \n",
       "\n",
       "[1502 rows x 7 columns]"
      ]
     },
     "execution_count": 29,
     "metadata": {},
     "output_type": "execute_result"
    }
   ],
   "source": [
    "restaurant_data_renamed_columns"
   ]
  },
  {
   "cell_type": "markdown",
   "id": "2a8532af-2411-4d71-a003-0813be3f98de",
   "metadata": {},
   "source": [
    "### Problem 3. Top words (1 point)\n",
    "Use a simple word tokenization and count the top 10 words in positive reviews; then the top 10 words in negative reviews*. Once again, try to define what \"top\" words means. Describe and document your process. Explain your results.\n",
    "\n",
    "\\* Okay, you may want to see top N words (with $N \\ge 10$)."
   ]
  },
  {
   "cell_type": "markdown",
   "id": "0e4d5a2f-9719-4c34-b2eb-86f6d4d26928",
   "metadata": {},
   "source": [
    "1. Let's create a function to count the most frequent words used in positive and negative reviews. "
   ]
  },
  {
   "cell_type": "code",
   "execution_count": 30,
   "id": "faaa6dd4-251e-4e32-9137-cc6c984726be",
   "metadata": {},
   "outputs": [],
   "source": [
    "def get_top_words(reviews, top_n=10):\n",
    "    all_words = ' '.join(reviews).split()\n",
    "    word_freq = Counter(all_words)\n",
    "    return word_freq.most_common(top_n)\n",
    "\n",
    "# Separate positive and negative reviews\n",
    "positive_reviews = restaurant_data_renamed_columns[restaurant_data_renamed_columns['sentiment'] == 'Positive']['cleaned_review']\n",
    "negative_reviews = restaurant_data_renamed_columns[restaurant_data_renamed_columns['sentiment'] == 'Negative']['cleaned_review']\n",
    "\n",
    "# Get top words\n",
    "top_positive_words = get_top_words(positive_reviews, top_n=10)\n",
    "top_negative_words = get_top_words(negative_reviews, top_n=10)"
   ]
  },
  {
   "cell_type": "code",
   "execution_count": 31,
   "id": "d9292591-74f9-4c1e-aa4d-4785d7b3d4c0",
   "metadata": {},
   "outputs": [
    {
     "data": {
      "text/plain": [
       "[('food', 746),\n",
       " ('great', 571),\n",
       " ('service', 545),\n",
       " ('good', 513),\n",
       " ('restaurant', 434),\n",
       " ('place', 398),\n",
       " ('nice', 307),\n",
       " ('wine', 302),\n",
       " ('menu', 265),\n",
       " ('staff', 259)]"
      ]
     },
     "execution_count": 31,
     "metadata": {},
     "output_type": "execute_result"
    }
   ],
   "source": [
    "top_positive_words"
   ]
  },
  {
   "cell_type": "code",
   "execution_count": 32,
   "id": "49a6ae1e-a0dc-4dff-96cd-a2dff5a8f267",
   "metadata": {},
   "outputs": [
    {
     "data": {
      "text/plain": [
       "[('restaurant', 251),\n",
       " ('food', 249),\n",
       " ('u', 209),\n",
       " ('wine', 204),\n",
       " ('table', 172),\n",
       " ('good', 153),\n",
       " ('menu', 152),\n",
       " ('service', 146),\n",
       " ('one', 142),\n",
       " ('would', 130)]"
      ]
     },
     "execution_count": 32,
     "metadata": {},
     "output_type": "execute_result"
    }
   ],
   "source": [
    "top_negative_words"
   ]
  },
  {
   "cell_type": "markdown",
   "id": "30e3dae1-6ab4-4c55-8b3d-4c94b2a46506",
   "metadata": {},
   "source": [
    "2. As we can see there are many contextual words like food, service, restaurant and wine in both. There could be seen some sntimential words like good, nice , bad. But we should focus more on the sentiment words. We can exclude the common words like food service and so on. We shall focus more on the adjectives or Bi or Tri-grams like (great service). The top words are the words that occur the most but they wouldn't necesseraly be the right ones.\n",
    "3. Let's begin by extracting the words that are most common by editing the function to exclude words of our choice."
   ]
  },
  {
   "cell_type": "code",
   "execution_count": 33,
   "id": "ed78c859-1bfe-4f02-a1bc-1dee317c4c4c",
   "metadata": {},
   "outputs": [
    {
     "name": "stdout",
     "output_type": "stream",
     "text": [
      "Top 10 filtered words in positive reviews: [('great', 571), ('good', 513), ('nice', 307), ('staff', 259), ('friendly', 234), ('excellent', 231), ('delicious', 223), ('really', 217), ('u', 217), ('time', 203)]\n"
     ]
    }
   ],
   "source": [
    "def get_top_words(reviews, top_n=10, exclude_words=None):\n",
    "    all_words = ' '.join(reviews).split()\n",
    "    word_freq = Counter(all_words)\n",
    "    \n",
    "    # If there are words to exclude, filter them out\n",
    "    if exclude_words:\n",
    "        word_freq = Counter({word: count for word, count in word_freq.items() if word not in exclude_words})\n",
    "    \n",
    "    return word_freq.most_common(top_n)\n",
    "\n",
    "# Separate positive and negative reviews\n",
    "positive_reviews = restaurant_data_renamed_columns[restaurant_data_renamed_columns['sentiment'] == 'Positive']['cleaned_review']\n",
    "negative_reviews = restaurant_data_renamed_columns[restaurant_data_renamed_columns['sentiment'] == 'Negative']['cleaned_review']\n",
    "\n",
    "# Common words to exclude for positive reviews\n",
    "exclude_words = set([\"food\", \"service\", \"restaurant\", \"place\", \"wine\", \"menu\"])\n",
    "\n",
    "# Get top words after filtering\n",
    "top_positive_words_filtered = get_top_words(positive_reviews, top_n=10, exclude_words=exclude_words)\n",
    "\n",
    "# Display the results\n",
    "print(\"Top 10 filtered words in positive reviews:\", top_positive_words_filtered)"
   ]
  },
  {
   "cell_type": "markdown",
   "id": "ebd70399-7b68-44aa-b9bc-08de26da53d7",
   "metadata": {},
   "source": [
    "4. Now it looks better as we have words(adjectives that we can connect with positive reviews). Let's try for negative words"
   ]
  },
  {
   "cell_type": "code",
   "execution_count": 34,
   "id": "65c2b83c-21ee-4d6a-b29a-ef24a30eb105",
   "metadata": {},
   "outputs": [
    {
     "name": "stdout",
     "output_type": "stream",
     "text": [
      "Top 10 filtered words in negative reviews: [('u', 209), ('table', 172), ('good', 153), ('one', 142), ('would', 130), ('waitress', 110), ('rome', 107), ('truffle', 105), ('meal', 103), ('could', 101)]\n"
     ]
    }
   ],
   "source": [
    "def get_top_words(reviews, top_n=10, exclude_words=None):\n",
    "    all_words = ' '.join(reviews).split()\n",
    "    word_freq = Counter(all_words)\n",
    "    \n",
    "    # If there are words to exclude, filter them out\n",
    "    if exclude_words:\n",
    "        word_freq = Counter({word: count for word, count in word_freq.items() if word not in exclude_words})\n",
    "    \n",
    "    return word_freq.most_common(top_n)\n",
    "\n",
    "# Common words to exclude for negative reviews\n",
    "exclude_words_negative = set([\"food\", \"service\", \"restaurant\", \"place\", \"wine\", \"menu\"])\n",
    "\n",
    "# Get top words after filtering for negative reviews\n",
    "top_negative_words_filtered = get_top_words(negative_reviews, top_n=10, exclude_words=exclude_words_negative)\n",
    "\n",
    "# Display the results\n",
    "print(\"Top 10 filtered words in negative reviews:\", top_negative_words_filtered)"
   ]
  },
  {
   "cell_type": "markdown",
   "id": "56ffa52b-a344-4d97-9c70-26a55c305cbf",
   "metadata": {},
   "source": [
    "5. As it can be seen this doesn't work so well so we could try to just extract the adjectives using the nltk library. For me the top words aren't the ones who occur most but those who give sentimantal meaning. We will use two methods\n",
    "6. Method one is by using a VADER ANALYSIS.VADER is a popular sentiment analysis tool that provides a measure of the positivity, negativity, and neutrality of words. It’s often used for social media text but can work well with review data.\n",
    "7. Another approach is focusing specifically on adjectives or adverbs that are typically negative."
   ]
  },
  {
   "cell_type": "code",
   "execution_count": 35,
   "id": "dbbfb76f-305e-4c65-8788-9cfc0cbece5c",
   "metadata": {},
   "outputs": [
    {
     "name": "stdout",
     "output_type": "stream",
     "text": [
      "Top 20 negative words using VADER: [('bad', 40), ('terrible', 36), ('disappointed', 35), ('problem', 30), ('empty', 29), ('poor', 28), ('hard', 27), ('disappointing', 22), ('sorry', 19), ('awful', 18), ('wrong', 17), ('sadly', 16), ('rude', 15), ('worst', 14), ('disappointment', 14), ('unfortunately', 14), ('charged', 12), ('pay', 12), ('rotten', 12), ('avoid', 11)]\n"
     ]
    }
   ],
   "source": [
    "sid = SentimentIntensityAnalyzer()\n",
    "\n",
    "def get_top_negative_words_vader(reviews, top_n=10):\n",
    "    word_scores = {}\n",
    "    \n",
    "    for review in reviews:\n",
    "        tokens = review.split()\n",
    "        for word in tokens:\n",
    "            score = sid.polarity_scores(word)\n",
    "            if score['compound'] < 0:  # Negative sentiment score\n",
    "                word_scores[word] = word_scores.get(word, 0) + 1\n",
    "                \n",
    "    word_freq = Counter(word_scores)\n",
    "    return word_freq.most_common(top_n)\n",
    "\n",
    "# Get top negative words using VADER\n",
    "top_negative_words_vader = get_top_negative_words_vader(negative_reviews, top_n=20)\n",
    "\n",
    "print(\"Top 20 negative words using VADER:\", top_negative_words_vader)"
   ]
  },
  {
   "cell_type": "code",
   "execution_count": 36,
   "id": "1b77ed0f-f3c3-4aa8-af2a-08b7f70e7eec",
   "metadata": {},
   "outputs": [],
   "source": [
    "def get_top_negative_adjectives(reviews, top_n=10):\n",
    "    negative_adjectives = []\n",
    "\n",
    "    for review in reviews:\n",
    "        tokens = word_tokenize(review)\n",
    "        tagged = pos_tag(tokens)\n",
    "        for word, tag in tagged:\n",
    "            if tag == 'JJ':  # Adjective\n",
    "                score = sid.polarity_scores(word)\n",
    "                if score['compound'] < 0:  # Check if the word has negative sentiment\n",
    "                    negative_adjectives.append(word)\n",
    "\n",
    "    word_freq = Counter(negative_adjectives)\n",
    "    return word_freq.most_common(top_n)\n",
    "\n",
    "# Get top negative adjectives\n",
    "top_negative_adjectives = get_top_negative_adjectives(negative_reviews, top_n=20)"
   ]
  },
  {
   "cell_type": "code",
   "execution_count": 37,
   "id": "75f6ed1a-e360-47ab-a1a7-2eb919e27ffc",
   "metadata": {},
   "outputs": [
    {
     "data": {
      "text/plain": [
       "[('bad', 40),\n",
       " ('terrible', 36),\n",
       " ('poor', 28),\n",
       " ('empty', 27),\n",
       " ('hard', 25),\n",
       " ('awful', 18),\n",
       " ('disappointed', 18),\n",
       " ('wrong', 16),\n",
       " ('disappointing', 16),\n",
       " ('rotten', 12),\n",
       " ('sorry', 11),\n",
       " ('uncomfortable', 10),\n",
       " ('negative', 9),\n",
       " ('rude', 9),\n",
       " ('sad', 7),\n",
       " ('stop', 6),\n",
       " ('unpleasant', 6),\n",
       " ('horrible', 6),\n",
       " ('aggressive', 6),\n",
       " ('low', 5)]"
      ]
     },
     "execution_count": 37,
     "metadata": {},
     "output_type": "execute_result"
    }
   ],
   "source": [
    "top_negative_adjectives"
   ]
  },
  {
   "cell_type": "markdown",
   "id": "65ad7527-e7d5-4f1e-8a6d-d1a8bdeae5a5",
   "metadata": {},
   "source": [
    "8. From both methods we now see that bad,terrible,poor,dissappointed,dissapointing, awful are the top words we can connect with negative reviews.\n",
    "9. Now let's do the same two methods for positive words to see whether they are the same as the ones we originally got."
   ]
  },
  {
   "cell_type": "code",
   "execution_count": 38,
   "id": "a0fe0e58-a008-4c73-8083-a110ebd0f325",
   "metadata": {},
   "outputs": [
    {
     "name": "stdout",
     "output_type": "stream",
     "text": [
      "Top 20 positive sentiment words in positive reviews: [('great', 571), ('good', 502), ('nice', 292), ('friendly', 234), ('delicious', 221), ('excellent', 185), ('lovely', 174), ('best', 167), ('well', 157), ('definitely', 115), ('wonderful', 96), ('special', 86), ('fantastic', 76), ('fresh', 72), ('happy', 64), ('beautiful', 62), ('perfect', 60), ('helpful', 53), ('amazing', 51), ('sure', 43)]\n"
     ]
    }
   ],
   "source": [
    "sia = SentimentIntensityAnalyzer()\n",
    "\n",
    "def extract_sentiment_words(reviews, sentiment='pos'):\n",
    "    sentiment_words = []\n",
    "    for review in reviews:\n",
    "        tokens = nltk.word_tokenize(review)\n",
    "        tagged_tokens = nltk.pos_tag(tokens)\n",
    "        \n",
    "        for word, tag in tagged_tokens:\n",
    "            # Only consider adjectives or adverbs\n",
    "            if tag.startswith('JJ') or tag.startswith('RB'):\n",
    "                if (sentiment == 'pos' and sia.polarity_scores(word)['compound'] > 0) or \\\n",
    "                   (sentiment == 'neg' and sia.polarity_scores(word)['compound'] < 0):\n",
    "                    sentiment_words.append(word)\n",
    "    \n",
    "    word_freq = Counter(sentiment_words)\n",
    "    return word_freq.most_common(20)\n",
    "\n",
    "# Get the top positive words from positive reviews\n",
    "positive_reviews = restaurant_data_renamed_columns[restaurant_data_renamed_columns['sentiment'] == 'Positive']['cleaned_review']\n",
    "top_positive_words = extract_sentiment_words(positive_reviews, sentiment='pos')\n",
    "\n",
    "print(\"Top 20 positive sentiment words in positive reviews:\", top_positive_words)"
   ]
  },
  {
   "cell_type": "markdown",
   "id": "3948c662-900b-4579-9a71-fc68a181b958",
   "metadata": {},
   "source": [
    "10. As it can be seen most of them are the same but these are way more accurate than the first try where we had words like staff. Using VADER is one really good way to extract words for sentiment analysis as it gets the adjectives that are connected with positive or negative sentiments.\n",
    "11. Positive: Great,Good,Nice,Friendly and Negative: Bad, Terrible,Dissapointed,Poor\n",
    "12. We could also try looking at combination of words n-grams but i these satisfy my requirements for now and i could come back here to check them out if i want even better accuracy percentage for sentimental analysis."
   ]
  },
  {
   "cell_type": "markdown",
   "id": "790ae91f-2def-41bc-8861-49fc5467b335",
   "metadata": {},
   "source": [
    "### Problem 4. Review titles (2 point)\n",
    "How do the top words you found in the last problem correlate to the review titles? Do the top 10 words (for each sentiment) appear in the titles at all? Do reviews which contain one or more of the top words have the same words in their titles?\n",
    "\n",
    "Does the title of a comment present a good summary of its content? That is, are the titles descriptive, or are they simply meant to catch the attention of the reader?"
   ]
  },
  {
   "cell_type": "markdown",
   "id": "382654d7-0edd-4ee0-a022-a645e340d4f1",
   "metadata": {},
   "source": [
    "1. Let's create a function to check whether a word from the top words we have appear in the review titles."
   ]
  },
  {
   "cell_type": "code",
   "execution_count": 39,
   "id": "ebb7c271-1d0f-4004-85a8-e72e9c93ed30",
   "metadata": {},
   "outputs": [],
   "source": [
    "def word_in_titles(word, titles):\n",
    "    return titles.str.contains(word, case=False, regex=False).any()\n",
    "\n",
    "# Check if top positive words appear in titles\n",
    "positive_titles = restaurant_data_renamed_columns[restaurant_data_renamed_columns['sentiment'] == 'Positive']['review_title']\n",
    "positive_words_in_titles = {word: word_in_titles(word, positive_titles) for word, _ in top_positive_words}\n",
    "\n",
    "# Check if top negative words appear in titles\n",
    "negative_titles = restaurant_data_renamed_columns[restaurant_data_renamed_columns['sentiment'] == 'Negative']['review_title']\n",
    "negative_words_in_titles = {word: word_in_titles(word, negative_titles) for word, _ in top_negative_words_vader}"
   ]
  },
  {
   "cell_type": "code",
   "execution_count": 40,
   "id": "c8342945-c162-41a0-9bfe-96eee0209315",
   "metadata": {},
   "outputs": [
    {
     "data": {
      "text/plain": [
       "{'great': True,\n",
       " 'good': True,\n",
       " 'nice': True,\n",
       " 'friendly': True,\n",
       " 'delicious': True,\n",
       " 'excellent': True,\n",
       " 'lovely': True,\n",
       " 'best': True,\n",
       " 'well': True,\n",
       " 'definitely': True,\n",
       " 'wonderful': True,\n",
       " 'special': True,\n",
       " 'fantastic': True,\n",
       " 'fresh': True,\n",
       " 'happy': True,\n",
       " 'beautiful': True,\n",
       " 'perfect': True,\n",
       " 'helpful': True,\n",
       " 'amazing': True,\n",
       " 'sure': True}"
      ]
     },
     "execution_count": 40,
     "metadata": {},
     "output_type": "execute_result"
    }
   ],
   "source": [
    "positive_words_in_titles"
   ]
  },
  {
   "cell_type": "code",
   "execution_count": 41,
   "id": "b0d45471-6f0e-430b-a5e7-99ff1d4ff8c1",
   "metadata": {},
   "outputs": [
    {
     "data": {
      "text/plain": [
       "{'bad': True,\n",
       " 'terrible': True,\n",
       " 'disappointed': True,\n",
       " 'problem': False,\n",
       " 'empty': False,\n",
       " 'poor': True,\n",
       " 'hard': False,\n",
       " 'disappointing': True,\n",
       " 'sorry': True,\n",
       " 'awful': True,\n",
       " 'wrong': False,\n",
       " 'sadly': False,\n",
       " 'rude': True,\n",
       " 'worst': True,\n",
       " 'disappointment': True,\n",
       " 'unfortunately': True,\n",
       " 'charged': False,\n",
       " 'pay': False,\n",
       " 'rotten': True,\n",
       " 'avoid': True}"
      ]
     },
     "execution_count": 41,
     "metadata": {},
     "output_type": "execute_result"
    }
   ],
   "source": [
    "negative_words_in_titles"
   ]
  },
  {
   "cell_type": "markdown",
   "id": "9d191947-8759-49cf-bf72-fe12e65c90eb",
   "metadata": {},
   "source": [
    "2. As we can see for the positive words it's most likely the case that they used for the title, but for the negative ones there are a lot of words that are not used in the title.\n",
    "3. Now let's see which words from our top words occur in both the title and the review."
   ]
  },
  {
   "cell_type": "code",
   "execution_count": 42,
   "id": "c2ab0f78-fdcc-4d7c-af94-b791cfe6fcce",
   "metadata": {},
   "outputs": [],
   "source": [
    "def word_in_review_and_title(word, reviews, titles):\n",
    "    reviews_with_word = reviews.str.contains(word, case=False, regex=False)\n",
    "    titles_with_word = titles.str.contains(word, case=False, regex=False)\n",
    "    return (reviews_with_word & titles_with_word).sum()\n",
    "\n",
    "# Analyze correlation for positive words\n",
    "positive_words_correlation = {word: word_in_review_and_title(word, positive_reviews, positive_titles) for word, _ in top_positive_words}\n",
    "\n",
    "# Analyze correlation for negative words\n",
    "negative_words_correlation = {word: word_in_review_and_title(word, negative_reviews, negative_titles) for word, _ in top_negative_words_vader}\n"
   ]
  },
  {
   "cell_type": "code",
   "execution_count": 43,
   "id": "4e0ba5e6-702c-40b8-839a-47efd8bb667f",
   "metadata": {},
   "outputs": [
    {
     "data": {
      "text/plain": [
       "{'great': 126,\n",
       " 'good': 63,\n",
       " 'nice': 25,\n",
       " 'friendly': 15,\n",
       " 'delicious': 31,\n",
       " 'excellent': 36,\n",
       " 'lovely': 17,\n",
       " 'best': 32,\n",
       " 'well': 1,\n",
       " 'definitely': 0,\n",
       " 'wonderful': 17,\n",
       " 'special': 4,\n",
       " 'fantastic': 14,\n",
       " 'fresh': 5,\n",
       " 'happy': 2,\n",
       " 'beautiful': 13,\n",
       " 'perfect': 7,\n",
       " 'helpful': 0,\n",
       " 'amazing': 30,\n",
       " 'sure': 1}"
      ]
     },
     "execution_count": 43,
     "metadata": {},
     "output_type": "execute_result"
    }
   ],
   "source": [
    "positive_words_correlation"
   ]
  },
  {
   "cell_type": "code",
   "execution_count": 44,
   "id": "4cdafe2e-6264-45c3-ae70-cd1beb353923",
   "metadata": {},
   "outputs": [
    {
     "data": {
      "text/plain": [
       "{'bad': 2,\n",
       " 'terrible': 7,\n",
       " 'disappointed': 1,\n",
       " 'problem': 0,\n",
       " 'empty': 0,\n",
       " 'poor': 2,\n",
       " 'hard': 0,\n",
       " 'disappointing': 2,\n",
       " 'sorry': 0,\n",
       " 'awful': 3,\n",
       " 'wrong': 0,\n",
       " 'sadly': 0,\n",
       " 'rude': 7,\n",
       " 'worst': 2,\n",
       " 'disappointment': 1,\n",
       " 'unfortunately': 0,\n",
       " 'charged': 0,\n",
       " 'pay': 0,\n",
       " 'rotten': 4,\n",
       " 'avoid': 1}"
      ]
     },
     "execution_count": 44,
     "metadata": {},
     "output_type": "execute_result"
    }
   ],
   "source": [
    "negative_words_correlation"
   ]
  },
  {
   "cell_type": "markdown",
   "id": "854d5cfb-b6f3-48aa-b053-6f08e923dc68",
   "metadata": {},
   "source": [
    "4. As it can be seen a lot of words aren't used in both the title and the review itself. Most positive ones are used but in the negative part we can see a lot of words not being used in both places.\n",
    "5. Now let's see whether the review titles are just for attention grab or they are descriptive. Seeing how much words overlap, which could indicate that the title is just a summary of the review. Then seeing if the sentiment correlation is high to check whether the title is with the same sentiment as the review and to see if the tone is the same(Negative-Negative) not (Positive-Negative). And last i will see if the titles contain attention-grabbing words such as AMAZING,Terrible and so on to see whether they are made to just catch the eye.\n",
    "6. Let's begin with words overlap"
   ]
  },
  {
   "cell_type": "code",
   "execution_count": 45,
   "id": "a9fb1631-d155-4b4b-a08c-b2ec5fc3cc55",
   "metadata": {},
   "outputs": [
    {
     "name": "stdout",
     "output_type": "stream",
     "text": [
      "Average word overlap between titles and reviews: 12.85%\n"
     ]
    }
   ],
   "source": [
    "def calculate_word_overlap(row):\n",
    "    title_words = set(row['review_title'].split())\n",
    "    review_words = set(row['cleaned_review'].split())\n",
    "    overlap = title_words.intersection(review_words)\n",
    "    return len(overlap) / len(title_words) if len(title_words) > 0 else 0\n",
    "\n",
    "# Apply the function to calculate word overlap for each review\n",
    "restaurant_data_renamed_columns['word_overlap'] = restaurant_data_renamed_columns.apply(calculate_word_overlap, axis=1)\n",
    "\n",
    "# Analyze the average overlap\n",
    "average_overlap = restaurant_data_renamed_columns['word_overlap'].mean()\n",
    "print(f\"Average word overlap between titles and reviews: {average_overlap:.2%}\")\n"
   ]
  },
  {
   "cell_type": "markdown",
   "id": "7a3efdff-bc82-4f65-b7b5-c11b091965cb",
   "metadata": {},
   "source": [
    "7. This result indicates that the title of a review only partially reflects the content of the review. This suggests that the titles may be more geared towards catching attention rather than fully summarizing the review's content.\n",
    "8. Let's see the sentiment consistency"
   ]
  },
  {
   "cell_type": "code",
   "execution_count": 46,
   "id": "7fa1a937-20cb-40f1-ba78-c644b352fcaf",
   "metadata": {},
   "outputs": [
    {
     "name": "stdout",
     "output_type": "stream",
     "text": [
      "Sentiment consistency between titles and reviews: 67.84%\n"
     ]
    }
   ],
   "source": [
    "def calculate_sentiment_consistency(row):\n",
    "    title_sentiment = sid.polarity_scores(row['review_title'])['compound']\n",
    "    review_sentiment = sid.polarity_scores(row['cleaned_review'])['compound']\n",
    "    return 1 if (title_sentiment > 0 and review_sentiment > 0) or (title_sentiment < 0 and review_sentiment < 0) else 0\n",
    "\n",
    "# Apply the function to calculate sentiment consistency for each review\n",
    "restaurant_data_renamed_columns['sentiment_consistency'] = restaurant_data_renamed_columns.apply(calculate_sentiment_consistency, axis=1)\n",
    "\n",
    "# Analyze the average consistency\n",
    "average_consistency = restaurant_data_renamed_columns['sentiment_consistency'].mean()\n",
    "print(f\"Sentiment consistency between titles and reviews: {average_consistency:.2%}\")\n"
   ]
  },
  {
   "cell_type": "markdown",
   "id": "1a66e7ea-8950-4c5d-bcf4-8120e993c85b",
   "metadata": {},
   "source": [
    "9. This result suggests that titles often reflect the sentiment of the review but not always. In other words, about one-third of the time, the title's sentiment might differ from the overall sentiment of the review. Which is a bit off but let's still see the attention grabbing words"
   ]
  },
  {
   "cell_type": "code",
   "execution_count": 47,
   "id": "989f08cf-3314-48ce-93b4-d665a0a9e81c",
   "metadata": {},
   "outputs": [
    {
     "name": "stdout",
     "output_type": "stream",
     "text": [
      "Percentage of titles with attention-grabbing words: 3.79%\n"
     ]
    }
   ],
   "source": [
    "attention_grabbing_words = {\"amazing\", \"terrible\", \"best\", \"worst\", \"fantastic\", \"awful\", \"must-visit\", \"avoid\"}\n",
    "\n",
    "def contains_attention_grabbing_words(title):\n",
    "    title_words = set(title.split())\n",
    "    return 1 if title_words.intersection(attention_grabbing_words) else 0\n",
    "\n",
    "# Apply the function to check for attention-grabbing words in each title\n",
    "restaurant_data_renamed_columns['attention_grabbing'] = restaurant_data_renamed_columns['review_title'].apply(contains_attention_grabbing_words)\n",
    "\n",
    "# Calculate the percentage of titles with attention-grabbing words\n",
    "percentage_attention_grabbing = restaurant_data_renamed_columns['attention_grabbing'].mean()\n",
    "print(f\"Percentage of titles with attention-grabbing words: {percentage_attention_grabbing:.2%}\")\n"
   ]
  },
  {
   "cell_type": "markdown",
   "id": "26782959-e7d0-47bb-bf59-d2e311cbf31b",
   "metadata": {},
   "source": [
    "10. Surprising enough it shows that there arent a lot of attention grabbing words. Which means that the review titles aren't that focused on just attention.\n",
    "11. Lets make a quick review of our answers and make a summary.\n",
    "12. The low word overlap and moderate sentiment consistency indicate that while titles provide a general idea of the review, they often do not delve into specifics. Titles might focus on key points or emotions rather than summarizing the entire review content.\n",
    "13. The fact that there is a 32.16% inconsistency in sentiment between titles and reviews suggests that some titles might be misleading, either intentionally or unintentionally. This inconsistency can affect how the reviews are perceived by readers, especially if the title is more positive or negative than the actual review.\n",
    "14. The low incidence of attention-grabbing words suggests that most reviews prioritize content quality over sensationalism. This could indicate that the reviews are more reliable and thoughtful, aiming to genuinely inform rather than just attract attention.\n",
    "15. In general the data suggests that while titles are not overly sensational, they are also not deeply descriptive. This balance might be a strategy to engage readers without resorting to clickbait tactics, but it also means readers need to read the full review to get a complete understanding."
   ]
  },
  {
   "cell_type": "markdown",
   "id": "a3a0aa94-23e4-4db1-a780-cd1bd3abb411",
   "metadata": {},
   "source": [
    "### Problem 5. Bag of words (1 point)\n",
    "Based on your findings so far, come up with a good set of settings (hyperparameters) for a bag-of-words model for review titles and contents. It's easiest to treat them separately (so, create two models); but you may also think about a unified representation. I find the simplest way of concatenating the title and content too simplistic to be useful, as it doesn't allow you to treat the title differently (e.g., by giving it more weight).\n",
    "\n",
    "The documentation for `CountVectorizer` is [here](https://scikit-learn.org/stable/modules/generated/sklearn.feature_extraction.text.CountVectorizer.html). Familiarize yourself with all settings; try out different combinations and come up with a final model; or rather - two models :)."
   ]
  },
  {
   "cell_type": "code",
   "execution_count": 48,
   "id": "2ce7892f-cb37-48d3-83fc-0ccb56c2bb1a",
   "metadata": {},
   "outputs": [],
   "source": [
    "# Bag-of-Words for Titles\n",
    "title_vectorizer = CountVectorizer(\n",
    "    ngram_range=(1, 2),\n",
    "    max_features=300,\n",
    "    min_df=2,\n",
    "    max_df=0.85,\n",
    "    stop_words='english',\n",
    "    binary=True\n",
    ")\n",
    "\n",
    "title_bow = title_vectorizer.fit_transform(restaurant_data_renamed_columns['review_title'])\n",
    "\n",
    "# Bag-of-Words for Review Contents\n",
    "content_vectorizer = CountVectorizer(\n",
    "    ngram_range=(1, 3),\n",
    "    max_features=1000,\n",
    "    min_df=3,\n",
    "    max_df=0.75,\n",
    "    stop_words='english',\n",
    "    binary=False\n",
    ")\n",
    "\n",
    "content_bow = content_vectorizer.fit_transform(restaurant_data_renamed_columns['review'])"
   ]
  },
  {
   "cell_type": "code",
   "execution_count": 49,
   "id": "34b6169c-3158-48d5-8d7a-d4660373a017",
   "metadata": {},
   "outputs": [
    {
     "data": {
      "text/plain": [
       "<1502x300 sparse matrix of type '<class 'numpy.int64'>'\n",
       "\twith 3786 stored elements in Compressed Sparse Row format>"
      ]
     },
     "execution_count": 49,
     "metadata": {},
     "output_type": "execute_result"
    }
   ],
   "source": [
    "title_bow "
   ]
  },
  {
   "cell_type": "code",
   "execution_count": 50,
   "id": "66c0f0df-c386-4b22-9546-d6e24919675e",
   "metadata": {},
   "outputs": [
    {
     "data": {
      "text/plain": [
       "<1502x1000 sparse matrix of type '<class 'numpy.int64'>'\n",
       "\twith 33695 stored elements in Compressed Sparse Row format>"
      ]
     },
     "execution_count": 50,
     "metadata": {},
     "output_type": "execute_result"
    }
   ],
   "source": [
    "content_bow "
   ]
  },
  {
   "cell_type": "markdown",
   "id": "a337ce0f-2afe-422f-8e9d-beddd5635093",
   "metadata": {},
   "source": [
    "### Problem 6. Deep sentiment analysis models (1 point)\n",
    "Find a suitable model for sentiment analysis in English. Without modifying, training, or fine-tuning the model, make it predict all contents (or better, combinations of titles and contents, if you can). Meaure the accuracy of the model compared to the `sentiment` column in the dataset."
   ]
  },
  {
   "cell_type": "markdown",
   "id": "1b95a11b-fdea-4b6a-a9e8-9e826c9a6dc8",
   "metadata": {},
   "source": [
    "1. After many attempts to handle torch and it not working i decided to use VADER to make sentiment predictions. Let's create a function to get sentiment prediciton out of Vader. It will perform sentiment analysis on the title and review combined and determine the sentiment based on compound score"
   ]
  },
  {
   "cell_type": "code",
   "execution_count": 59,
   "id": "8c80bf12-3b8b-463e-bf1f-4a9f1e944354",
   "metadata": {},
   "outputs": [],
   "source": [
    "def get_vader_sentiment(text):\n",
    "    sentiment_score = sid.polarity_scores(text)\n",
    "    # VADER gives a compound score that summarizes the sentiment\n",
    "    return sentiment_score['compound']\n",
    "\n",
    "# If you have separate columns for title and content\n",
    "restaurant_data_renamed_columns['combined_text'] = restaurant_data_renamed_columns['review_title'] + \" \" + restaurant_data_renamed_columns['review']\n",
    "\n",
    "# Apply VADER sentiment analysis\n",
    "restaurant_data_renamed_columns['vader_sentiment'] = restaurant_data_renamed_columns['combined_text'].apply(get_vader_sentiment)\n",
    "\n",
    "# Determine positive or negative sentiment based on compound score\n",
    "restaurant_data_renamed_columns['vader_sentiment_label'] = restaurant_data_renamed_columns['vader_sentiment'].apply(lambda score: 'Positive' if score >= 0 else 'Negative')\n"
   ]
  },
  {
   "cell_type": "markdown",
   "id": "531672e2-9d95-4d80-8725-a7b98c7cf3d5",
   "metadata": {},
   "source": [
    "2. Let's see how accurate it is"
   ]
  },
  {
   "cell_type": "code",
   "execution_count": 60,
   "id": "bb1d6cbb-1059-4f26-bbce-1001defb7661",
   "metadata": {},
   "outputs": [
    {
     "name": "stdout",
     "output_type": "stream",
     "text": [
      "VADER Sentiment Analysis Accuracy: 89.68%\n"
     ]
    }
   ],
   "source": [
    "# Calculate accuracy\n",
    "accuracy = (restaurant_data_renamed_columns['vader_sentiment_label'] == restaurant_data_renamed_columns['sentiment']).mean()\n",
    "print(f\"VADER Sentiment Analysis Accuracy: {accuracy:.2%}\")\n"
   ]
  },
  {
   "cell_type": "markdown",
   "id": "82b0cfbc-6f0d-48ad-9e13-b6ab0612266b",
   "metadata": {},
   "source": [
    "3. As it can be seen the accuracy is pretty good, but let's also check some examples to see where it goes wrong and right."
   ]
  },
  {
   "cell_type": "code",
   "execution_count": 61,
   "id": "c06cb948-5677-4c7a-bbe2-8d186fac1090",
   "metadata": {},
   "outputs": [
    {
     "name": "stdout",
     "output_type": "stream",
     "text": [
      "                                       combined_text sentiment  \\\n",
      "0  Rude manager The manager became agressive when...  Negative   \n",
      "1  A big disappointment I ordered a beef fillet a...  Negative   \n",
      "2  Pretty Place with Bland Food This is an attrac...  Negative   \n",
      "3  Great service and wine but inedible food Sadly...  Negative   \n",
      "4  Avoid- Worst meal in Rome - possibly ever From...  Negative   \n",
      "5  Shocking management, TERRIBLE service by mum a...  Negative   \n",
      "6  We tired the tasting menu - avoid We tired the...  Negative   \n",
      "7  Huge Disappointment This restaurant’s high rat...  Negative   \n",
      "8  Expensive mediocre food and service We got the...  Negative   \n",
      "9  all around awful My wife and I booked well in ...  Negative   \n",
      "\n",
      "  vader_sentiment_label  \n",
      "0              Negative  \n",
      "1              Negative  \n",
      "2              Negative  \n",
      "3              Positive  \n",
      "4              Negative  \n",
      "5              Negative  \n",
      "6              Negative  \n",
      "7              Negative  \n",
      "8              Negative  \n",
      "9              Negative  \n"
     ]
    }
   ],
   "source": [
    "# Select a subset of the columns to compare predictions with actual sentiments\n",
    "comparison_df = restaurant_data_renamed_columns[['combined_text', 'sentiment', 'vader_sentiment_label']]\n",
    "\n",
    "# Optionally, display the first few rows to see the comparison\n",
    "print(comparison_df.head(10))  # Show the first 10 rows for comparison\n"
   ]
  },
  {
   "cell_type": "markdown",
   "id": "23c0d76b-4cd0-4e79-86d9-9364ec287f52",
   "metadata": {},
   "source": [
    "4. As it can be seen it works mostly right but it does get mixed up. In the third review it thinks its positive as it takes Great service and doesn't count much the inedible food part. It mixes it up because there is a word with positive sentiment in it."
   ]
  },
  {
   "cell_type": "markdown",
   "id": "773d804d-9c83-48ec-be2b-8564d73d908c",
   "metadata": {},
   "source": [
    "### Problem 7. Deep features (embeddings) (1 point)\n",
    "Use the same model to perform feature extraction on the review contents (or contents + titles) instead of direct predictions. You should already be familiar how to do that from your work on images.\n",
    "\n",
    "Use the cosine similarity between texts to try to cluster them. Are there \"similar\" reviews (you'll need to find a way to measure similarity) across different restaurants? Are customers generally in agreement for the same restaurant?"
   ]
  },
  {
   "cell_type": "markdown",
   "id": "e1b7d429-d563-4847-862c-a7f69b637114",
   "metadata": {},
   "source": [
    "1. We will use the USE(UNIVERSAL SENTENCE ENCODER) pre-trained model to embed."
   ]
  },
  {
   "cell_type": "code",
   "execution_count": 54,
   "id": "a6789d6e-0234-4301-8ccb-4ea1553a42ca",
   "metadata": {},
   "outputs": [
    {
     "name": "stderr",
     "output_type": "stream",
     "text": [
      "C:\\Users\\ACER\\anaconda3\\Lib\\site-packages\\sklearn\\cluster\\_agglomerative.py:983: FutureWarning: Attribute `affinity` was deprecated in version 1.2 and will be removed in 1.4. Use `metric` instead\n",
      "  warnings.warn(\n"
     ]
    }
   ],
   "source": [
    "texts = (restaurant_data_renamed_columns['review_title'] + \" \" + restaurant_data_renamed_columns['review']).tolist()\n",
    "\n",
    "# Load the USE model\n",
    "embed = hub.load(\"https://tfhub.dev/google/universal-sentence-encoder/4\")\n",
    "\n",
    "# Compute embeddings\n",
    "embeddings = embed(texts)\n",
    "\n",
    "# Calculate cosine similarity\n",
    "cosine_sim_matrix = np.inner(embeddings, embeddings)\n",
    "\n",
    "# Clustering\n",
    "from sklearn.cluster import AgglomerativeClustering\n",
    "clustering = AgglomerativeClustering(n_clusters=5, affinity='precomputed', linkage='complete')\n",
    "clustering.fit(1 - cosine_sim_matrix)  # 1 - cosine similarity to use as distance\n",
    "\n",
    "# Add cluster labels to the dataframe\n",
    "restaurant_data_renamed_columns['cluster'] = clustering.labels_"
   ]
  },
  {
   "cell_type": "markdown",
   "id": "5e32352e-d407-4331-b2d0-ffef5f46f5af",
   "metadata": {},
   "source": [
    "1. Lets first combine the review_title and review columns from the DataFrame into a single text string for each row and then convert it into a list which will be used for embedding\n",
    "2. Then we will use the Universal Sentence Encoder (USE), a pre-trained model from TensorFlow Hub, to convert each text (combination of title and review) into a high-dimensional vector (embedding). These embeddings capture semantic information about the text, allowing similar texts to have similar embeddings.\n",
    "3. Then we will compute the cosine similarity between every pair of text embeddings. The cosine similarity measures how similar two texts are in terms of their direction in the vector space, regardless of their magnitude.\n",
    "4. Applies Agglomerative Clustering (a type of hierarchical clustering) to group the reviews into n_clusters=5 clusters based on the computed cosine similarity. This clustering method uses the inverse of cosine similarity (i.e., 1 - cosine similarity) as a distance measure, where more similar reviews (higher cosine similarity) are considered closer together in the clustering process.\n",
    "5. Adds a new column (cluster) to the DataFrame, where each review is assigned a cluster label (0 through 4). These labels indicate which cluster each review belongs to.\n",
    "6. Let's see what we got in the dataframe."
   ]
  },
  {
   "cell_type": "code",
   "execution_count": 73,
   "id": "7cf28e8f-3262-46ef-9820-3f93e11e62db",
   "metadata": {},
   "outputs": [
    {
     "data": {
      "text/html": [
       "<div>\n",
       "<style scoped>\n",
       "    .dataframe tbody tr th:only-of-type {\n",
       "        vertical-align: middle;\n",
       "    }\n",
       "\n",
       "    .dataframe tbody tr th {\n",
       "        vertical-align: top;\n",
       "    }\n",
       "\n",
       "    .dataframe thead th {\n",
       "        text-align: right;\n",
       "    }\n",
       "</style>\n",
       "<table border=\"1\" class=\"dataframe\">\n",
       "  <thead>\n",
       "    <tr style=\"text-align: right;\">\n",
       "      <th></th>\n",
       "      <th>country</th>\n",
       "      <th>restaurant_name</th>\n",
       "      <th>sentiment</th>\n",
       "      <th>review_title</th>\n",
       "      <th>review_date</th>\n",
       "      <th>review</th>\n",
       "      <th>cleaned_review</th>\n",
       "      <th>word_overlap</th>\n",
       "      <th>sentiment_consistency</th>\n",
       "      <th>attention_grabbing</th>\n",
       "      <th>combined_text</th>\n",
       "      <th>vader_sentiment</th>\n",
       "      <th>vader_sentiment_label</th>\n",
       "      <th>cluster</th>\n",
       "    </tr>\n",
       "  </thead>\n",
       "  <tbody>\n",
       "    <tr>\n",
       "      <th>0</th>\n",
       "      <td>France</td>\n",
       "      <td>The Frog at Bercy Village</td>\n",
       "      <td>Negative</td>\n",
       "      <td>Rude manager</td>\n",
       "      <td>May 2024 •</td>\n",
       "      <td>The manager became agressive when I said the c...</td>\n",
       "      <td>manager became agressive said carbonara good r...</td>\n",
       "      <td>0.500000</td>\n",
       "      <td>1</td>\n",
       "      <td>0</td>\n",
       "      <td>Rude manager The manager became agressive when...</td>\n",
       "      <td>-0.9460</td>\n",
       "      <td>Negative</td>\n",
       "      <td>3</td>\n",
       "    </tr>\n",
       "    <tr>\n",
       "      <th>1</th>\n",
       "      <td>France</td>\n",
       "      <td>The Frog at Bercy Village</td>\n",
       "      <td>Negative</td>\n",
       "      <td>A big disappointment</td>\n",
       "      <td>Feb 2024 •</td>\n",
       "      <td>I ordered a beef fillet ask to be done medium,...</td>\n",
       "      <td>ordered beef fillet ask done medium got well d...</td>\n",
       "      <td>0.000000</td>\n",
       "      <td>1</td>\n",
       "      <td>0</td>\n",
       "      <td>A big disappointment I ordered a beef fillet a...</td>\n",
       "      <td>-0.7684</td>\n",
       "      <td>Negative</td>\n",
       "      <td>3</td>\n",
       "    </tr>\n",
       "    <tr>\n",
       "      <th>2</th>\n",
       "      <td>France</td>\n",
       "      <td>The Frog at Bercy Village</td>\n",
       "      <td>Negative</td>\n",
       "      <td>Pretty Place with Bland Food</td>\n",
       "      <td>Nov 2023 •</td>\n",
       "      <td>This is an attractive venue with welcoming, al...</td>\n",
       "      <td>attractive venue welcoming albeit somewhat slo...</td>\n",
       "      <td>0.000000</td>\n",
       "      <td>1</td>\n",
       "      <td>0</td>\n",
       "      <td>Pretty Place with Bland Food This is an attrac...</td>\n",
       "      <td>-0.5112</td>\n",
       "      <td>Negative</td>\n",
       "      <td>0</td>\n",
       "    </tr>\n",
       "    <tr>\n",
       "      <th>3</th>\n",
       "      <td>France</td>\n",
       "      <td>The Frog at Bercy Village</td>\n",
       "      <td>Negative</td>\n",
       "      <td>Great service and wine but inedible food</td>\n",
       "      <td>Mar 2023 •</td>\n",
       "      <td>Sadly I  used the high TripAdvisor rating too ...</td>\n",
       "      <td>sadly used high tripadvisor rating literally f...</td>\n",
       "      <td>0.428571</td>\n",
       "      <td>1</td>\n",
       "      <td>0</td>\n",
       "      <td>Great service and wine but inedible food Sadly...</td>\n",
       "      <td>0.9967</td>\n",
       "      <td>Positive</td>\n",
       "      <td>4</td>\n",
       "    </tr>\n",
       "    <tr>\n",
       "      <th>4</th>\n",
       "      <td>France</td>\n",
       "      <td>The Frog at Bercy Village</td>\n",
       "      <td>Negative</td>\n",
       "      <td>Avoid- Worst meal in Rome - possibly ever</td>\n",
       "      <td>Nov 2022 •</td>\n",
       "      <td>From the start this meal was bad- especially g...</td>\n",
       "      <td>start meal especially given price visited husb...</td>\n",
       "      <td>0.125000</td>\n",
       "      <td>0</td>\n",
       "      <td>0</td>\n",
       "      <td>Avoid- Worst meal in Rome - possibly ever From...</td>\n",
       "      <td>-0.4701</td>\n",
       "      <td>Negative</td>\n",
       "      <td>4</td>\n",
       "    </tr>\n",
       "    <tr>\n",
       "      <th>...</th>\n",
       "      <td>...</td>\n",
       "      <td>...</td>\n",
       "      <td>...</td>\n",
       "      <td>...</td>\n",
       "      <td>...</td>\n",
       "      <td>...</td>\n",
       "      <td>...</td>\n",
       "      <td>...</td>\n",
       "      <td>...</td>\n",
       "      <td>...</td>\n",
       "      <td>...</td>\n",
       "      <td>...</td>\n",
       "      <td>...</td>\n",
       "      <td>...</td>\n",
       "    </tr>\n",
       "    <tr>\n",
       "      <th>1497</th>\n",
       "      <td>Cuba</td>\n",
       "      <td>Old Square (Plaza Vieja)</td>\n",
       "      <td>Negative</td>\n",
       "      <td>The Tourism Trap</td>\n",
       "      <td>Oct 2016 •</td>\n",
       "      <td>Despite the other reviews saying that this is ...</td>\n",
       "      <td>despite review saying place hang especially be...</td>\n",
       "      <td>0.000000</td>\n",
       "      <td>0</td>\n",
       "      <td>0</td>\n",
       "      <td>The Tourism Trap Despite the other reviews say...</td>\n",
       "      <td>0.9262</td>\n",
       "      <td>Positive</td>\n",
       "      <td>2</td>\n",
       "    </tr>\n",
       "    <tr>\n",
       "      <th>1498</th>\n",
       "      <td>Cuba</td>\n",
       "      <td>Old Square (Plaza Vieja)</td>\n",
       "      <td>Negative</td>\n",
       "      <td>the beer factory</td>\n",
       "      <td>Oct 2016 •</td>\n",
       "      <td>beer is good.  food is awfull  The only decent...</td>\n",
       "      <td>beer good food awfull decent thing shish kabob...</td>\n",
       "      <td>0.333333</td>\n",
       "      <td>0</td>\n",
       "      <td>0</td>\n",
       "      <td>the beer factory beer is good.  food is awfull...</td>\n",
       "      <td>0.4404</td>\n",
       "      <td>Positive</td>\n",
       "      <td>3</td>\n",
       "    </tr>\n",
       "    <tr>\n",
       "      <th>1499</th>\n",
       "      <td>Cuba</td>\n",
       "      <td>Old Square (Plaza Vieja)</td>\n",
       "      <td>Negative</td>\n",
       "      <td>brewery</td>\n",
       "      <td>Oct 2016 •</td>\n",
       "      <td>for terrible service of a truly comedic level,...</td>\n",
       "      <td>terrible service truly comedic level full pint...</td>\n",
       "      <td>0.000000</td>\n",
       "      <td>0</td>\n",
       "      <td>0</td>\n",
       "      <td>brewery for terrible service of a truly comedi...</td>\n",
       "      <td>-0.1189</td>\n",
       "      <td>Negative</td>\n",
       "      <td>3</td>\n",
       "    </tr>\n",
       "    <tr>\n",
       "      <th>1500</th>\n",
       "      <td>Cuba</td>\n",
       "      <td>Old Square (Plaza Vieja)</td>\n",
       "      <td>Negative</td>\n",
       "      <td>It's nothing exciting over there</td>\n",
       "      <td>Oct 2016 •</td>\n",
       "      <td>We visited the Havana's Club Museum which is l...</td>\n",
       "      <td>visited havana club museum located old havana ...</td>\n",
       "      <td>0.000000</td>\n",
       "      <td>0</td>\n",
       "      <td>0</td>\n",
       "      <td>It's nothing exciting over there We visited th...</td>\n",
       "      <td>0.2306</td>\n",
       "      <td>Positive</td>\n",
       "      <td>2</td>\n",
       "    </tr>\n",
       "    <tr>\n",
       "      <th>1501</th>\n",
       "      <td>Cuba</td>\n",
       "      <td>Old Square (Plaza Vieja)</td>\n",
       "      <td>Negative</td>\n",
       "      <td>Tourist Trap</td>\n",
       "      <td>Oct 2016 •</td>\n",
       "      <td>Food and service was awful. Very pretty stop. ...</td>\n",
       "      <td>food service awful pretty stop good photo bad ...</td>\n",
       "      <td>0.000000</td>\n",
       "      <td>1</td>\n",
       "      <td>0</td>\n",
       "      <td>Tourist Trap Food and service was awful. Very ...</td>\n",
       "      <td>-0.5606</td>\n",
       "      <td>Negative</td>\n",
       "      <td>3</td>\n",
       "    </tr>\n",
       "  </tbody>\n",
       "</table>\n",
       "<p>1502 rows × 14 columns</p>\n",
       "</div>"
      ],
      "text/plain": [
       "     country            restaurant_name sentiment  \\\n",
       "0     France  The Frog at Bercy Village  Negative   \n",
       "1     France  The Frog at Bercy Village  Negative   \n",
       "2     France  The Frog at Bercy Village  Negative   \n",
       "3     France  The Frog at Bercy Village  Negative   \n",
       "4     France  The Frog at Bercy Village  Negative   \n",
       "...      ...                        ...       ...   \n",
       "1497    Cuba   Old Square (Plaza Vieja)  Negative   \n",
       "1498    Cuba   Old Square (Plaza Vieja)  Negative   \n",
       "1499    Cuba   Old Square (Plaza Vieja)  Negative   \n",
       "1500    Cuba   Old Square (Plaza Vieja)  Negative   \n",
       "1501    Cuba   Old Square (Plaza Vieja)  Negative   \n",
       "\n",
       "                                   review_title review_date  \\\n",
       "0                                  Rude manager  May 2024 •   \n",
       "1                          A big disappointment  Feb 2024 •   \n",
       "2                  Pretty Place with Bland Food  Nov 2023 •   \n",
       "3      Great service and wine but inedible food  Mar 2023 •   \n",
       "4     Avoid- Worst meal in Rome - possibly ever  Nov 2022 •   \n",
       "...                                         ...         ...   \n",
       "1497                           The Tourism Trap  Oct 2016 •   \n",
       "1498                           the beer factory  Oct 2016 •   \n",
       "1499                                    brewery  Oct 2016 •   \n",
       "1500           It's nothing exciting over there  Oct 2016 •   \n",
       "1501                               Tourist Trap  Oct 2016 •   \n",
       "\n",
       "                                                 review  \\\n",
       "0     The manager became agressive when I said the c...   \n",
       "1     I ordered a beef fillet ask to be done medium,...   \n",
       "2     This is an attractive venue with welcoming, al...   \n",
       "3     Sadly I  used the high TripAdvisor rating too ...   \n",
       "4     From the start this meal was bad- especially g...   \n",
       "...                                                 ...   \n",
       "1497  Despite the other reviews saying that this is ...   \n",
       "1498  beer is good.  food is awfull  The only decent...   \n",
       "1499  for terrible service of a truly comedic level,...   \n",
       "1500  We visited the Havana's Club Museum which is l...   \n",
       "1501  Food and service was awful. Very pretty stop. ...   \n",
       "\n",
       "                                         cleaned_review  word_overlap  \\\n",
       "0     manager became agressive said carbonara good r...      0.500000   \n",
       "1     ordered beef fillet ask done medium got well d...      0.000000   \n",
       "2     attractive venue welcoming albeit somewhat slo...      0.000000   \n",
       "3     sadly used high tripadvisor rating literally f...      0.428571   \n",
       "4     start meal especially given price visited husb...      0.125000   \n",
       "...                                                 ...           ...   \n",
       "1497  despite review saying place hang especially be...      0.000000   \n",
       "1498  beer good food awfull decent thing shish kabob...      0.333333   \n",
       "1499  terrible service truly comedic level full pint...      0.000000   \n",
       "1500  visited havana club museum located old havana ...      0.000000   \n",
       "1501  food service awful pretty stop good photo bad ...      0.000000   \n",
       "\n",
       "      sentiment_consistency  attention_grabbing  \\\n",
       "0                         1                   0   \n",
       "1                         1                   0   \n",
       "2                         1                   0   \n",
       "3                         1                   0   \n",
       "4                         0                   0   \n",
       "...                     ...                 ...   \n",
       "1497                      0                   0   \n",
       "1498                      0                   0   \n",
       "1499                      0                   0   \n",
       "1500                      0                   0   \n",
       "1501                      1                   0   \n",
       "\n",
       "                                          combined_text  vader_sentiment  \\\n",
       "0     Rude manager The manager became agressive when...          -0.9460   \n",
       "1     A big disappointment I ordered a beef fillet a...          -0.7684   \n",
       "2     Pretty Place with Bland Food This is an attrac...          -0.5112   \n",
       "3     Great service and wine but inedible food Sadly...           0.9967   \n",
       "4     Avoid- Worst meal in Rome - possibly ever From...          -0.4701   \n",
       "...                                                 ...              ...   \n",
       "1497  The Tourism Trap Despite the other reviews say...           0.9262   \n",
       "1498  the beer factory beer is good.  food is awfull...           0.4404   \n",
       "1499  brewery for terrible service of a truly comedi...          -0.1189   \n",
       "1500  It's nothing exciting over there We visited th...           0.2306   \n",
       "1501  Tourist Trap Food and service was awful. Very ...          -0.5606   \n",
       "\n",
       "     vader_sentiment_label  cluster  \n",
       "0                 Negative        3  \n",
       "1                 Negative        3  \n",
       "2                 Negative        0  \n",
       "3                 Positive        4  \n",
       "4                 Negative        4  \n",
       "...                    ...      ...  \n",
       "1497              Positive        2  \n",
       "1498              Positive        3  \n",
       "1499              Negative        3  \n",
       "1500              Positive        2  \n",
       "1501              Negative        3  \n",
       "\n",
       "[1502 rows x 14 columns]"
      ]
     },
     "execution_count": 73,
     "metadata": {},
     "output_type": "execute_result"
    }
   ],
   "source": [
    "restaurant_data_renamed_columns"
   ]
  },
  {
   "cell_type": "markdown",
   "id": "9a121259-d877-4ad6-999a-5c68e8dc212d",
   "metadata": {},
   "source": [
    "7. The clusters represent groups of reviews that are similar to each other based on their content. Reviews in the same cluster are considered more semantically similar to each other than to reviews in other clusters.\n",
    "The specific meaning of each cluster (e.g., \"positive reviews,\" \"complaints about service\") depends on the underlying data and how the clustering algorithm groups them. To interpret the clusters, you would typically examine the content of the reviews within each cluster."
   ]
  },
  {
   "cell_type": "markdown",
   "id": "3bcfe876-28d5-4147-aa5b-5a3de273cc78",
   "metadata": {},
   "source": [
    "8. Let's export this dataframe to a csv so we can explore on our own and so that we can see if there is any deeper connection for the cluster numbers. For now we know that the clusters created by the Agglomerative Clustering algorithm represent groups of reviews that are similar to each other based on their text content (combination of titles and reviews). The numbers assigned to each cluster (0, 1, 2, 3, 4) are arbitrary labels that the algorithm assigns to each group. These numbers don't have an inherent meaning other than to identify which reviews belong to the same cluster.\n",
    "9. Reviews in the same cluster are expected to share common themes, language, sentiment, or other textual characteristics that make them more similar to each other than to reviews in other clusters."
   ]
  },
  {
   "cell_type": "code",
   "execution_count": 74,
   "id": "1668b24c-3dc8-4955-a7d2-c49ff6f67b65",
   "metadata": {},
   "outputs": [],
   "source": [
    "output_file_path = 'restaurant_reviews_with_clusters.csv'\n",
    "restaurant_data_renamed_columns.to_csv(output_file_path, index=False)"
   ]
  },
  {
   "cell_type": "markdown",
   "id": "f96f6d98-d713-40f7-a5c6-73fe16af3724",
   "metadata": {},
   "source": [
    "10. Let's see if people have the same thoughts about restaurants based on what clusters their reviews fall into."
   ]
  },
  {
   "cell_type": "code",
   "execution_count": 75,
   "id": "eccdf9b4-f4db-4525-aa7d-dac1bb4490f9",
   "metadata": {},
   "outputs": [
    {
     "name": "stdout",
     "output_type": "stream",
     "text": [
      "cluster                                  0  1    2    3   4\n",
      "restaurant_name                                            \n",
      "Ad Hoc Ristorante (Piazza del Popolo)  225  2    0   35  56\n",
      "Mosaic                                  79  0    0    2   0\n",
      "Old Square (Plaza Vieja)                 5  0  123   14   4\n",
      "Pelmenya                                32  0    0   12  56\n",
      "Stara Kamienica                         73  0    0   12  50\n",
      "The Frog at Bercy Village              200  3    4  228  77\n",
      "The LOFT                               154  0    3    5  48\n"
     ]
    }
   ],
   "source": [
    "# Group by restaurant and cluster, and count the number of reviews in each group\n",
    "cluster_distribution = restaurant_data_renamed_columns.groupby(['restaurant_name', 'cluster']).size().unstack(fill_value=0)\n",
    "\n",
    "# Display the cluster distribution for each restaurant\n",
    "print(cluster_distribution)\n"
   ]
  },
  {
   "cell_type": "markdown",
   "id": "a4feaae9-53db-4b8a-84f1-47c22bf91b9f",
   "metadata": {},
   "source": [
    "11. As it can be seen there are some visible agreements in terms of what people think of the restaurant where there can be seen a bigger number of reviews clustered into one. The problem is with The Frog at Bercy Village where there are two clusters which are almost similar. But also this is the restaurant with most reviews so i guess its normal for reviews to be mixed."
   ]
  },
  {
   "cell_type": "markdown",
   "id": "c79a585f-1dad-469a-a2ae-31d3981b9e1b",
   "metadata": {},
   "source": [
    "### \\* Problem 8. Explore and model at will\n",
    "In this lab, we focused on preprocessing and feature extraction and we didn't really have a chance to train (or compare) models. The dataset is maybe too small to be conclusive, but feel free to play around with ready-made models, and train your own."
   ]
  },
  {
   "cell_type": "code",
   "execution_count": null,
   "id": "a1e90732-4d96-4692-8588-b9429430a98b",
   "metadata": {},
   "outputs": [],
   "source": []
  }
 ],
 "metadata": {
  "kernelspec": {
   "display_name": "Python 3 (ipykernel)",
   "language": "python",
   "name": "python3"
  },
  "language_info": {
   "codemirror_mode": {
    "name": "ipython",
    "version": 3
   },
   "file_extension": ".py",
   "mimetype": "text/x-python",
   "name": "python",
   "nbconvert_exporter": "python",
   "pygments_lexer": "ipython3",
   "version": "3.11.7"
  }
 },
 "nbformat": 4,
 "nbformat_minor": 5
}
